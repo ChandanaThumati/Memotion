{
  "cells": [
    {
      "cell_type": "code",
      "execution_count": null,
      "metadata": {
        "colab": {
          "base_uri": "https://localhost:8080/"
        },
        "id": "lM9pYxG6gaYq",
        "outputId": "2699ff5c-b9ba-488b-8074-687340f1bf4d"
      },
      "outputs": [
        {
          "output_type": "stream",
          "name": "stdout",
          "text": [
            "Mounted at /content/drive\n"
          ]
        }
      ],
      "source": [
        "from google.colab import drive\n",
        "drive.mount('/content/drive')"
      ]
    },
    {
      "cell_type": "code",
      "execution_count": null,
      "metadata": {
        "colab": {
          "base_uri": "https://localhost:8080/"
        },
        "id": "jPgPSqFJi5-n",
        "outputId": "51801921-9dae-4982-e5e1-71fa026b8aff"
      },
      "outputs": [
        {
          "output_type": "stream",
          "name": "stdout",
          "text": [
            "/content/drive/My Drive/Memotion\n"
          ]
        }
      ],
      "source": [
        "cd \"/content/drive/My Drive/Memotion\""
      ]
    },
    {
      "cell_type": "code",
      "execution_count": null,
      "metadata": {
        "colab": {
          "base_uri": "https://localhost:8080/"
        },
        "id": "HpyR2v0_khAC",
        "outputId": "bbf64571-ae31-4361-e4e8-487517b7d88e"
      },
      "outputs": [
        {
          "output_type": "stream",
          "name": "stdout",
          "text": [
            "Collecting fasttext\n",
            "  Downloading fasttext-0.9.2.tar.gz (68 kB)\n",
            "\u001b[?25l\r\u001b[K     |████▊                           | 10 kB 18.4 MB/s eta 0:00:01\r\u001b[K     |█████████▌                      | 20 kB 11.0 MB/s eta 0:00:01\r\u001b[K     |██████████████▎                 | 30 kB 8.9 MB/s eta 0:00:01\r\u001b[K     |███████████████████             | 40 kB 8.4 MB/s eta 0:00:01\r\u001b[K     |███████████████████████▉        | 51 kB 4.7 MB/s eta 0:00:01\r\u001b[K     |████████████████████████████▋   | 61 kB 5.5 MB/s eta 0:00:01\r\u001b[K     |████████████████████████████████| 68 kB 3.2 MB/s \n",
            "\u001b[?25hCollecting pybind11>=2.2\n",
            "  Using cached pybind11-2.9.2-py2.py3-none-any.whl (213 kB)\n",
            "Requirement already satisfied: setuptools>=0.7.0 in /usr/local/lib/python3.7/dist-packages (from fasttext) (57.4.0)\n",
            "Requirement already satisfied: numpy in /usr/local/lib/python3.7/dist-packages (from fasttext) (1.21.6)\n",
            "Building wheels for collected packages: fasttext\n",
            "  Building wheel for fasttext (setup.py) ... \u001b[?25l\u001b[?25hdone\n",
            "  Created wheel for fasttext: filename=fasttext-0.9.2-cp37-cp37m-linux_x86_64.whl size=3142668 sha256=81717dffae7d055641592aff266f817c43341fe5336c474e662c74078fff8bfb\n",
            "  Stored in directory: /root/.cache/pip/wheels/4e/ca/bf/b020d2be95f7641801a6597a29c8f4f19e38f9c02a345bab9b\n",
            "Successfully built fasttext\n",
            "Installing collected packages: pybind11, fasttext\n",
            "Successfully installed fasttext-0.9.2 pybind11-2.9.2\n"
          ]
        }
      ],
      "source": [
        "!pip install fasttext"
      ]
    },
    {
      "cell_type": "code",
      "execution_count": null,
      "metadata": {
        "colab": {
          "base_uri": "https://localhost:8080/"
        },
        "id": "yBepn0yAjCk4",
        "outputId": "8e1f3b56-cab1-4f2c-b08c-26b7d909e58c"
      },
      "outputs": [
        {
          "output_type": "stream",
          "name": "stdout",
          "text": [
            "[nltk_data] Downloading package stopwords to /root/nltk_data...\n",
            "[nltk_data]   Unzipping corpora/stopwords.zip.\n",
            "[nltk_data] Downloading package wordnet to /root/nltk_data...\n",
            "[nltk_data]   Unzipping corpora/wordnet.zip.\n"
          ]
        },
        {
          "output_type": "execute_result",
          "data": {
            "text/plain": [
              "True"
            ]
          },
          "metadata": {},
          "execution_count": 4
        }
      ],
      "source": [
        "import pandas as pd\n",
        "from sklearn.utils import resample\n",
        "import csv\n",
        "import nltk\n",
        "from nltk.corpus import stopwords\n",
        "from nltk.tokenize import RegexpTokenizer\n",
        "from nltk.stem import WordNetLemmatizer\n",
        "from nltk.stem.porter import PorterStemmer\n",
        "from bs4 import BeautifulSoup\n",
        "import string\n",
        "import re\n",
        "import fasttext\n",
        "\n",
        "nltk.download('stopwords')\n",
        "nltk.download('wordnet')"
      ]
    },
    {
      "cell_type": "code",
      "execution_count": null,
      "metadata": {
        "id": "T-pnD7qfjD2I"
      },
      "outputs": [],
      "source": [
        "data = pd.read_csv(\"/content/drive/My Drive/Memotion/labels.csv\")"
      ]
    },
    {
      "cell_type": "code",
      "execution_count": null,
      "metadata": {
        "colab": {
          "base_uri": "https://localhost:8080/"
        },
        "id": "Zn0rv4F3jFG9",
        "outputId": "205c28c0-dd01-473c-cdc3-ead8f352fee4"
      },
      "outputs": [
        {
          "output_type": "execute_result",
          "data": {
            "text/plain": [
              "positive         3127\n",
              "neutral          2201\n",
              "very_positive    1033\n",
              "negative          480\n",
              "very_negative     151\n",
              "Name: overall_sentiment, dtype: int64"
            ]
          },
          "metadata": {},
          "execution_count": 6
        }
      ],
      "source": [
        "data['overall_sentiment'].value_counts()"
      ]
    },
    {
      "cell_type": "code",
      "execution_count": null,
      "metadata": {
        "id": "9asw1Dmrmtqi"
      },
      "outputs": [],
      "source": [
        "data['overall_sentiment'] = data['overall_sentiment'].replace({'very_positive': 'positive', 'very_negative': 'negative'})"
      ]
    },
    {
      "cell_type": "code",
      "execution_count": null,
      "metadata": {
        "colab": {
          "base_uri": "https://localhost:8080/"
        },
        "id": "ElrTaufCz5xh",
        "outputId": "6b5aeb8b-31a6-4f1b-c8da-c186a6141eb5"
      },
      "outputs": [
        {
          "output_type": "execute_result",
          "data": {
            "text/plain": [
              "positive    4160\n",
              "neutral     2201\n",
              "negative     631\n",
              "Name: overall_sentiment, dtype: int64"
            ]
          },
          "metadata": {},
          "execution_count": 8
        }
      ],
      "source": [
        "data['overall_sentiment'].value_counts()"
      ]
    },
    {
      "cell_type": "code",
      "execution_count": null,
      "metadata": {
        "colab": {
          "base_uri": "https://localhost:8080/"
        },
        "id": "gFjqe_KGjHsY",
        "outputId": "93f35481-939b-4e8c-8dbc-740c82cfd20b"
      },
      "outputs": [
        {
          "output_type": "stream",
          "name": "stdout",
          "text": [
            "['positive' 'neutral' 'negative']\n"
          ]
        }
      ],
      "source": [
        "classes = data['overall_sentiment'].unique()\n",
        "print(classes)"
      ]
    },
    {
      "cell_type": "code",
      "execution_count": null,
      "metadata": {
        "id": "3QFTPzfzjMzf"
      },
      "outputs": [],
      "source": [
        "positive = data[data.overall_sentiment==classes[0]]\n",
        "neutral = data[data.overall_sentiment==classes[1]]\n",
        "negative = data[data.overall_sentiment==classes[2]]"
      ]
    },
    {
      "cell_type": "code",
      "execution_count": null,
      "metadata": {
        "id": "PuVgDf33jPSq"
      },
      "outputs": [],
      "source": [
        "neutral_upsampled = resample(neutral,\n",
        "                          replace=True,\n",
        "                          n_samples=len(positive), \n",
        "                          random_state=27)\n",
        "negative_upsampled = resample(negative,\n",
        "                          replace=True,\n",
        "                          n_samples=len(positive), \n",
        "                          random_state=27)"
      ]
    },
    {
      "cell_type": "code",
      "execution_count": null,
      "metadata": {
        "id": "nS0Y2DNUjRK3"
      },
      "outputs": [],
      "source": [
        "upsampled = [positive, neutral_upsampled,negative_upsampled]\n",
        "upsampled = pd.concat(upsampled)"
      ]
    },
    {
      "cell_type": "code",
      "execution_count": null,
      "metadata": {
        "colab": {
          "base_uri": "https://localhost:8080/"
        },
        "id": "78vnwEmxjSyq",
        "outputId": "821c28f5-f3d8-4177-f4d8-5c15dff284f2"
      },
      "outputs": [
        {
          "output_type": "execute_result",
          "data": {
            "text/plain": [
              "positive    4160\n",
              "neutral     4160\n",
              "negative    4160\n",
              "Name: overall_sentiment, dtype: int64"
            ]
          },
          "metadata": {},
          "execution_count": 13
        }
      ],
      "source": [
        "upsampled['overall_sentiment'].value_counts()"
      ]
    },
    {
      "cell_type": "code",
      "execution_count": null,
      "metadata": {
        "id": "1jnOBX2QjVZP"
      },
      "outputs": [],
      "source": [
        "def clean_data(text):\n",
        "  text = str(text)\n",
        "  no_punct = \"\".join([c for c in text if c not in string.punctuation])\n",
        "  url_pattern = r'http[s]?://(?:[a-zA-Z]|[0-9]|[$-_@.&+]|[!*\\(\\),]|(?:%[0-9a-fA-F][0-9a-fA-F]))+'\n",
        "  text = re.sub(url_pattern, ' ', no_punct)\n",
        "  text = ''.join(character for character in text if ord(character) < 128)\n",
        "  emoji_pattern = re.compile(\"[\"\n",
        "                           u\"\\U0001F600-\\U0001F64F\"  # emoticons\n",
        "                           u\"\\U0001F300-\\U0001F5FF\"  # symbols & pictographs\n",
        "                           u\"\\U0001F680-\\U0001F6FF\"  # transport & map symbols\n",
        "                           u\"\\U0001F1E0-\\U0001F1FF\"  # flags (iOS)\n",
        "                           u\"\\U00002702-\\U000027B0\"\n",
        "                           u\"\\U000024C2-\\U0001F251\"\n",
        "                           \"]+\", flags=re.UNICODE)\n",
        "  text = emoji_pattern.sub(r'', text)\n",
        "  toknizer = RegexpTokenizer(r'\\w+')\n",
        "  text = toknizer.tokenize(text.lower())\n",
        "  text = [w for w in text if w not in stopwords.words('english')]\n",
        "  lemmatizer = WordNetLemmatizer()\n",
        "  text = [lemmatizer.lemmatize(i) for i in text]\n",
        "  stemmer = PorterStemmer()\n",
        "  text = \" \".join([stemmer.stem(i) for i in  text])\n",
        "  return text"
      ]
    },
    {
      "cell_type": "code",
      "execution_count": null,
      "metadata": {
        "id": "FTOWSSS_kBK8"
      },
      "outputs": [],
      "source": [
        "upsampled['text_corrected'] = upsampled['text_corrected'].map(lambda x: clean_data(x))"
      ]
    },
    {
      "cell_type": "code",
      "execution_count": null,
      "metadata": {
        "colab": {
          "base_uri": "https://localhost:8080/"
        },
        "id": "urtG0QBakI5Z",
        "outputId": "fbc842b5-c55a-417a-ab9b-800331aee65f"
      },
      "outputs": [
        {
          "output_type": "execute_result",
          "data": {
            "text/plain": [
              "0       look friend lightyear sohalikut trend play 10 ...\n",
              "1       best 10 yearchalleng complet le 4 year kudu na...\n",
              "2       sam thorn strippin follow follow saw everyon p...\n",
              "3                         10 year challeng sweet dee edit\n",
              "8       fornit die 10 month minecraft never die 10 yea...\n",
              "                              ...                        \n",
              "4229            your go start world war 3 presid wont let\n",
              "185     condit extra class facebookcomcompleteg comple...\n",
              "4801    technic hillari clinton turn point usa part 39...\n",
              "4221                                       donald clinton\n",
              "10      probabl first man 10 year challeng chennai pas...\n",
              "Name: text_corrected, Length: 12480, dtype: object"
            ]
          },
          "metadata": {},
          "execution_count": 16
        }
      ],
      "source": [
        "upsampled['text_corrected']"
      ]
    },
    {
      "cell_type": "code",
      "execution_count": null,
      "metadata": {
        "colab": {
          "base_uri": "https://localhost:8080/"
        },
        "id": "btQkvQxIGWr0",
        "outputId": "8f923998-c2c9-4503-bf8b-3f35f31650f6"
      },
      "outputs": [
        {
          "output_type": "stream",
          "name": "stdout",
          "text": [
            "      Unnamed: 0      image_name  \\\n",
            "3114        3114  image_3115.png   \n",
            "\n",
            "                                               text_ocr  \\\n",
            "3114  IF YOU HAVE ANY PENGUIN MEMES CLOSED CLOSED FL...   \n",
            "\n",
            "                                         text_corrected humour  \\\n",
            "3114  penguin meme close close fling imgflipcom enti...  funny   \n",
            "\n",
            "              sarcasm       offensive  motivational overall_sentiment  \n",
            "3114  twisted_meaning  very_offensive  motivational          positive  \n"
          ]
        }
      ],
      "source": [
        "df1 = upsampled[upsampled['text_corrected'].str.contains(\"penguin meme close close fling imgflipcom entir sub smile wave\")] \n",
        "print(df1)"
      ]
    },
    {
      "cell_type": "code",
      "execution_count": null,
      "metadata": {
        "colab": {
          "base_uri": "https://localhost:8080/"
        },
        "id": "cKCKaAQNkROQ",
        "outputId": "9ca5244f-5aa6-4e46-c6be-66a8e53f65ee"
      },
      "outputs": [
        {
          "output_type": "stream",
          "name": "stderr",
          "text": [
            "/usr/local/lib/python3.7/dist-packages/ipykernel_launcher.py:3: SettingWithCopyWarning: \n",
            "A value is trying to be set on a copy of a slice from a DataFrame.\n",
            "Try using .loc[row_indexer,col_indexer] = value instead\n",
            "\n",
            "See the caveats in the documentation: https://pandas.pydata.org/pandas-docs/stable/user_guide/indexing.html#returning-a-view-versus-a-copy\n",
            "  This is separate from the ipykernel package so we can avoid doing imports until\n"
          ]
        }
      ],
      "source": [
        "col = ['overall_sentiment','text_corrected']\n",
        "train = upsampled[col]\n",
        "train['overall_sentiment']=['__label__'+ s for s in train['overall_sentiment']]"
      ]
    },
    {
      "cell_type": "code",
      "execution_count": null,
      "metadata": {
        "colab": {
          "base_uri": "https://localhost:8080/",
          "height": 423
        },
        "id": "PDzBcEDzkUPx",
        "outputId": "012d5100-f7b5-49da-90c6-27b3f387c487"
      },
      "outputs": [
        {
          "output_type": "execute_result",
          "data": {
            "text/plain": [
              "      overall_sentiment                                     text_corrected\n",
              "0     __label__positive  look friend lightyear sohalikut trend play 10 ...\n",
              "1     __label__positive  best 10 yearchalleng complet le 4 year kudu na...\n",
              "2     __label__positive  sam thorn strippin follow follow saw everyon p...\n",
              "3     __label__positive                    10 year challeng sweet dee edit\n",
              "8     __label__positive  fornit die 10 month minecraft never die 10 yea...\n",
              "...                 ...                                                ...\n",
              "4229  __label__negative          your go start world war 3 presid wont let\n",
              "185   __label__negative  condit extra class facebookcomcompleteg comple...\n",
              "4801  __label__negative  technic hillari clinton turn point usa part 39...\n",
              "4221  __label__negative                                     donald clinton\n",
              "10    __label__negative  probabl first man 10 year challeng chennai pas...\n",
              "\n",
              "[12480 rows x 2 columns]"
            ],
            "text/html": [
              "\n",
              "  <div id=\"df-6ca834a7-78b6-4d09-b729-9db8d204db27\">\n",
              "    <div class=\"colab-df-container\">\n",
              "      <div>\n",
              "<style scoped>\n",
              "    .dataframe tbody tr th:only-of-type {\n",
              "        vertical-align: middle;\n",
              "    }\n",
              "\n",
              "    .dataframe tbody tr th {\n",
              "        vertical-align: top;\n",
              "    }\n",
              "\n",
              "    .dataframe thead th {\n",
              "        text-align: right;\n",
              "    }\n",
              "</style>\n",
              "<table border=\"1\" class=\"dataframe\">\n",
              "  <thead>\n",
              "    <tr style=\"text-align: right;\">\n",
              "      <th></th>\n",
              "      <th>overall_sentiment</th>\n",
              "      <th>text_corrected</th>\n",
              "    </tr>\n",
              "  </thead>\n",
              "  <tbody>\n",
              "    <tr>\n",
              "      <th>0</th>\n",
              "      <td>__label__positive</td>\n",
              "      <td>look friend lightyear sohalikut trend play 10 ...</td>\n",
              "    </tr>\n",
              "    <tr>\n",
              "      <th>1</th>\n",
              "      <td>__label__positive</td>\n",
              "      <td>best 10 yearchalleng complet le 4 year kudu na...</td>\n",
              "    </tr>\n",
              "    <tr>\n",
              "      <th>2</th>\n",
              "      <td>__label__positive</td>\n",
              "      <td>sam thorn strippin follow follow saw everyon p...</td>\n",
              "    </tr>\n",
              "    <tr>\n",
              "      <th>3</th>\n",
              "      <td>__label__positive</td>\n",
              "      <td>10 year challeng sweet dee edit</td>\n",
              "    </tr>\n",
              "    <tr>\n",
              "      <th>8</th>\n",
              "      <td>__label__positive</td>\n",
              "      <td>fornit die 10 month minecraft never die 10 yea...</td>\n",
              "    </tr>\n",
              "    <tr>\n",
              "      <th>...</th>\n",
              "      <td>...</td>\n",
              "      <td>...</td>\n",
              "    </tr>\n",
              "    <tr>\n",
              "      <th>4229</th>\n",
              "      <td>__label__negative</td>\n",
              "      <td>your go start world war 3 presid wont let</td>\n",
              "    </tr>\n",
              "    <tr>\n",
              "      <th>185</th>\n",
              "      <td>__label__negative</td>\n",
              "      <td>condit extra class facebookcomcompleteg comple...</td>\n",
              "    </tr>\n",
              "    <tr>\n",
              "      <th>4801</th>\n",
              "      <td>__label__negative</td>\n",
              "      <td>technic hillari clinton turn point usa part 39...</td>\n",
              "    </tr>\n",
              "    <tr>\n",
              "      <th>4221</th>\n",
              "      <td>__label__negative</td>\n",
              "      <td>donald clinton</td>\n",
              "    </tr>\n",
              "    <tr>\n",
              "      <th>10</th>\n",
              "      <td>__label__negative</td>\n",
              "      <td>probabl first man 10 year challeng chennai pas...</td>\n",
              "    </tr>\n",
              "  </tbody>\n",
              "</table>\n",
              "<p>12480 rows × 2 columns</p>\n",
              "</div>\n",
              "      <button class=\"colab-df-convert\" onclick=\"convertToInteractive('df-6ca834a7-78b6-4d09-b729-9db8d204db27')\"\n",
              "              title=\"Convert this dataframe to an interactive table.\"\n",
              "              style=\"display:none;\">\n",
              "        \n",
              "  <svg xmlns=\"http://www.w3.org/2000/svg\" height=\"24px\"viewBox=\"0 0 24 24\"\n",
              "       width=\"24px\">\n",
              "    <path d=\"M0 0h24v24H0V0z\" fill=\"none\"/>\n",
              "    <path d=\"M18.56 5.44l.94 2.06.94-2.06 2.06-.94-2.06-.94-.94-2.06-.94 2.06-2.06.94zm-11 1L8.5 8.5l.94-2.06 2.06-.94-2.06-.94L8.5 2.5l-.94 2.06-2.06.94zm10 10l.94 2.06.94-2.06 2.06-.94-2.06-.94-.94-2.06-.94 2.06-2.06.94z\"/><path d=\"M17.41 7.96l-1.37-1.37c-.4-.4-.92-.59-1.43-.59-.52 0-1.04.2-1.43.59L10.3 9.45l-7.72 7.72c-.78.78-.78 2.05 0 2.83L4 21.41c.39.39.9.59 1.41.59.51 0 1.02-.2 1.41-.59l7.78-7.78 2.81-2.81c.8-.78.8-2.07 0-2.86zM5.41 20L4 18.59l7.72-7.72 1.47 1.35L5.41 20z\"/>\n",
              "  </svg>\n",
              "      </button>\n",
              "      \n",
              "  <style>\n",
              "    .colab-df-container {\n",
              "      display:flex;\n",
              "      flex-wrap:wrap;\n",
              "      gap: 12px;\n",
              "    }\n",
              "\n",
              "    .colab-df-convert {\n",
              "      background-color: #E8F0FE;\n",
              "      border: none;\n",
              "      border-radius: 50%;\n",
              "      cursor: pointer;\n",
              "      display: none;\n",
              "      fill: #1967D2;\n",
              "      height: 32px;\n",
              "      padding: 0 0 0 0;\n",
              "      width: 32px;\n",
              "    }\n",
              "\n",
              "    .colab-df-convert:hover {\n",
              "      background-color: #E2EBFA;\n",
              "      box-shadow: 0px 1px 2px rgba(60, 64, 67, 0.3), 0px 1px 3px 1px rgba(60, 64, 67, 0.15);\n",
              "      fill: #174EA6;\n",
              "    }\n",
              "\n",
              "    [theme=dark] .colab-df-convert {\n",
              "      background-color: #3B4455;\n",
              "      fill: #D2E3FC;\n",
              "    }\n",
              "\n",
              "    [theme=dark] .colab-df-convert:hover {\n",
              "      background-color: #434B5C;\n",
              "      box-shadow: 0px 1px 3px 1px rgba(0, 0, 0, 0.15);\n",
              "      filter: drop-shadow(0px 1px 2px rgba(0, 0, 0, 0.3));\n",
              "      fill: #FFFFFF;\n",
              "    }\n",
              "  </style>\n",
              "\n",
              "      <script>\n",
              "        const buttonEl =\n",
              "          document.querySelector('#df-6ca834a7-78b6-4d09-b729-9db8d204db27 button.colab-df-convert');\n",
              "        buttonEl.style.display =\n",
              "          google.colab.kernel.accessAllowed ? 'block' : 'none';\n",
              "\n",
              "        async function convertToInteractive(key) {\n",
              "          const element = document.querySelector('#df-6ca834a7-78b6-4d09-b729-9db8d204db27');\n",
              "          const dataTable =\n",
              "            await google.colab.kernel.invokeFunction('convertToInteractive',\n",
              "                                                     [key], {});\n",
              "          if (!dataTable) return;\n",
              "\n",
              "          const docLinkHtml = 'Like what you see? Visit the ' +\n",
              "            '<a target=\"_blank\" href=https://colab.research.google.com/notebooks/data_table.ipynb>data table notebook</a>'\n",
              "            + ' to learn more about interactive tables.';\n",
              "          element.innerHTML = '';\n",
              "          dataTable['output_type'] = 'display_data';\n",
              "          await google.colab.output.renderOutput(dataTable, element);\n",
              "          const docLink = document.createElement('div');\n",
              "          docLink.innerHTML = docLinkHtml;\n",
              "          element.appendChild(docLink);\n",
              "        }\n",
              "      </script>\n",
              "    </div>\n",
              "  </div>\n",
              "  "
            ]
          },
          "metadata": {},
          "execution_count": 19
        }
      ],
      "source": [
        "train"
      ]
    },
    {
      "cell_type": "code",
      "execution_count": null,
      "metadata": {
        "id": "ZOX_O8pckYTB"
      },
      "outputs": [],
      "source": [
        "train = train.sample(n=len(train), random_state=42)"
      ]
    },
    {
      "cell_type": "code",
      "execution_count": null,
      "metadata": {
        "id": "SJNgK6_YkYsL"
      },
      "outputs": [],
      "source": [
        "train_data = train[:int(len(train) * 70 / 100)]\n",
        "test_data = train[int(len(train) * 70 / 100):]"
      ]
    },
    {
      "cell_type": "code",
      "execution_count": null,
      "metadata": {
        "id": "KI5HqK6fkZ9_"
      },
      "outputs": [],
      "source": [
        "train_data.to_csv(r'/content/drive/My Drive/train.txt', index=False, sep=' ', header=False, quoting=csv.QUOTE_NONE, quotechar=\"\", escapechar=\" \")\n",
        "test_data.to_csv(r'/content/drive/My Drive/test.txt', index=False, sep=' ', header=False, quoting=csv.QUOTE_NONE, quotechar=\"\", escapechar=\" \")"
      ]
    },
    {
      "cell_type": "code",
      "execution_count": null,
      "metadata": {
        "id": "mkxh8tcCkcSM"
      },
      "outputs": [],
      "source": [
        "model = fasttext.train_supervised(input = '/content/drive/My Drive/train.txt', lr=0.1, epoch=50, wordNgrams=2, loss='hs')"
      ]
    },
    {
      "cell_type": "code",
      "execution_count": null,
      "metadata": {
        "id": "Mo4Z5aDG4Q-L"
      },
      "outputs": [],
      "source": [
        "model.save_model(\"/content/drive/My Drive/Memotion/fasttext_model_zero.ftz\")"
      ]
    },
    {
      "cell_type": "code",
      "execution_count": null,
      "metadata": {
        "id": "5JrVYLyA5f9m"
      },
      "outputs": [],
      "source": [
        "model = fasttext.load_model(\"/content/drive/My Drive/Memotion/fasttext_model_zero.bin\")"
      ]
    },
    {
      "cell_type": "markdown",
      "metadata": {
        "id": "DIrJNIfdieww"
      },
      "source": [
        ""
      ]
    },
    {
      "cell_type": "code",
      "execution_count": null,
      "metadata": {
        "colab": {
          "base_uri": "https://localhost:8080/"
        },
        "id": "fQgHPgsXklfP",
        "outputId": "872d796e-fa95-4f81-f3e3-af81e765acac"
      },
      "outputs": [
        {
          "output_type": "stream",
          "name": "stdout",
          "text": [
            "['</s>', 'meme', 'like', 'bill', 'im', 'imgflipcom', 'dont', 'get', 'one', 'make', 'your', 'look', 'quickmemecom', 'say', 'friend', 'know', 'go', 'peopl', 'see', 'want', 'time', 'think', 'memecentercom', 'woman', 'girl', 'memegeneratornet', 'love', 'never', 'u', 'tell', 'call', 'someon', 'trump', 'come', 'doesnt', 'fuck', 'made', 'kill', 'got', 'hate', 'year', 'cant', 'day', 'countri', 'take', 'need', 'find', 'cat', 'best', 'alway', 'hillari', 'girlfriend', 'would', 'life', 'man', 'thing', 'back', 'ask', 'still', 'world', 'hitler', 'new', 'guy', 'good', 'liam', 'that', 'first', 'funni', 'oh', 'use', 'white', 'tri', 'work', 'everyon', 'smart', 'give', 'stop', 'better', 'kid', 'post', 'let', 'keep', 'watch', 'hey', 'mr', 'could', 'put', 'mean', 'shit', 'obama', 'memecent', 'presid', 'person', 'without', 'even', 'said', 'old', 'racist', 'face', 'feel', 'real', 'chuck', 'norri', 'actual', 'gonna', 'told', 'start', 'last', 'follow', 'die', 'much', 'steve', 'job', 'show', 'ever', 'movi', '2', 'bean', 'happi', 'walk', '3', 'babi', 'didnt', 'everyth', 'right', 'dicaprio', 'big', 'name', 'facebook', 'putin', '10', 'harvey', 'eat', 'he', '1', 'leonardo', 'eye', 'ill', 'seal', 'realli', 'everi', 'zuckerberg', 'play', 'black', 'moment', 'mark', 'feminist', 'bad', 'send', 'war', 'talk', 'chang', 'music', 'donald', '2017', 'god', 'pictur', 'america', 'game', 'laugh', 'technolog', 'live', 'wait', 'boy', 'way', 'titan', 'someth', 'birthday', 'what', 'end', 'pepe', 'sorri', 'internet', 'lose', 'sexist', 'fan', 'brian', 'two', 'ye', 'care', 'word', 'thought', 'kim', 'mind', 'realiz', 'ive', 'wrong', 'night', 'pleas', 'via', 'jim', 'turn', 'spiderman', 'today', 'thank', 'great', 'left', 'ur', 'modi', 'joker', 'littl', 'anyth', 'may', 'dad', 'well', 'pm', 'money', 'men', 'nobodi', 'point', 'awesom', 'captain', 'lord', 'harri', 'dog', 'rememb', 'aveng', 'bitch', 'mom', 'who', 'drink', 'clinton', 'gene', 'read', 'home', 'win', 'imgur', 'wilder', 'hand', 'control', 'there', 'run', 'stori', 'final', 'pay', 'sure', 'wont', 'free', 'bang', 'becom', 'drunk', 'photo', 'long', 'hold', 'understand', 'enough', 'hit', 'joke', 'hous', 'next', 'share', 'must', '000', 'oscar', 'school', 'phone', 'dr', 'evil', 'lost', 'luck', 'theori', '2016', 'social', 'anoth', 'happen', 'penguin', 'miss', 'carrey', 'anyon', 'fat', 'boyfriend', 'godfath', 'sit', 'deadpool', 'scene', '9gagcom', 'makeamemeorg', 'mouth', 'meet', 'high', 'crazi', 'wish', 'els', 'whole', 'sport', 'video', 'hear', 'xmen', 'mother', 'minut', 'date', 'wall', 'room', 'bat', 'dead', 'vote', 'listen', 'trust', 'found', 'secret', 'heard', 'id', 'pokemon', 'hard', 'ring', '2018', 'break', 'univers', '4', 'appear', 'hell', 'tag', 'bro', 'reason', 'around', 'alreadi', 'jong', 'bring', 'human', 'misogyni', 'noth', 'food', 'believ', 'kind', 'fire', 'caus', 'isnt', 'she', 'rare', 'text', 'gave', 'open', 'check', 'russian', 'femin', 'famili', 'mayb', 'barney', 'rahul', 'simpli', 'challeng', 'power', 'bed', 'drop', 'wear', 'knock', 'water', 'bodi', 'daughter', 'awkward', 'creat', 'met', 'class', 'book', 'picard', 'wife', 'help', 'fun', 'question', 'card', 'parent', 'instead', 'nemo', 'saw', 'ball', 'gun', 'hair', 'busi', 'move', 'week', 'child', 'fact', 'havent', 'potter', 'smile', 'differ', 'matter', '20', 'car', 'son', 'sound', 'everybodi', 'problem', 'troll', 'singl', 'bear', 'male', 'done', 'chocol', 'support', 'place', 'head', 'forc', 'opinion', 'sleep', 'hot', 'pretti', 'marvel', 'drive', 'wanna', 'gandhi', 'notic', 'memescom', 'hour', 'femal', 'lie', 'close', 'million', 'number', 'sometim', 'parti', '15', 'teacher', 'alien', 'issu', 'cute', 'doctor', 'dy', 'seen', 'joe', 'away', 'v', 'leav', 'street', 'ladi', 'law', 'fight', 'lol', '100', 'theyr', 'also', 'nation', 'finish', 'fish', 'age', 'red', 'second', 'father', 'idiot', 'democrat', 'act', '5', 'starecatcom', 'forgot', 'sexi', 'russia', 'mani', 'true', 'yeah', 'neeson', 'occupi', 'side', 'wake', 'month', 'nice', 'pepemem', 'beauti', 'took', 'stupid', 'cut', 'youv', '7', 'build', 'fine', 'usa', 'charact', 'state', 'comment', 'hilari', 'expect', 'news', 'morn', 'space', 'email', 'fake', 'anim', 'frog', 'offer', 'hero', 'josh', 'lot', 'memecrunchcom', 'steal', 'order', 'wonder', 'pic', 'worri', 'went', 'dream', 'medium', 'reaction', 'imag', 'quot', 'gener', 'tree', 'minion', 'club', 'ugli', 'buy', 'liter', 'destroy', 'appl', 'bo', 'dude', 'rest', 'tom', 'chandler', 'king', 'fix', 'sad', 'bing', 'exam', 'suit', 'hope', 'came', 'part', 'wow', 'okay', 'readi', 'speak', 'elect', 'explain', 'save', 'throne', 'ex', 'distract', 'essentialoilstylecom', 'hurt', 'morpheu', 'inform', 'sex', 'beer', 'strang', 'tear', '6', 'third', 'clean', 'deserv', 'upvot', 'other', 'cool', '8', 'aint', 'page', 'probabl', '9', 'charg', 'murder', 'speech', 'omg', 'ron', 'answer', 'un', 'beat', 'jerri', 'full', 'futur', 'color', 'complain', 'plan', 'truth', 'note', 'tast', 'penni', 'chanc', 'tv', 'favorit', 'giorgio', 'us', 'compani', 'yet', 'rip', 'favourit', 'enjoy', 'pizza', 'dollar', 'wasnt', 'door', 'leo', 'as', 'forget', 'afraid', 'promis', 'episod', 'scaveng', 'idea', 'sheldon', 'either', 'arrest', 'window', 'shut', 'kiss', 'hang', 'releas', 'india', 'togeth', 'f', 'danger', 'squad', 'coffe', 'team', 'unit', 'refus', 'offend', 'allow', 'blame', 'protect', 'ship', 'le', 'jew', 'memeshappencom', 'player', 'hello', 'origin', 'iphon', 'boredpandacom', 'learn', 'hater', 'twitter', 'damn', 'repli', 'govern', 'bollywood', 'here', 'respons', 'throw', 'nov', 'scienc', 'soon', 'simpl', '2019', 'cri', 'studi', 'gay', 'whenev', 'ok', 'stay', 'view', 'batman', 'american', 'star', 'stinson', 'j', 'special', 'suck', 'instagram', 'imagur', 'crush', 'death', 'entir', 'haha', 'success', 'accident', 'googl', 'slave', 'super', 'ig', 'voldemort', 'half', 'fit', 'nazi', 'camera', 'brother', 'sexual', 'season', 'approv', 'taught', 'stare', 'actor', 'sandwich', 'chicken', 'audienc', 'test', 'mematicnet', 'b', 'gender', 'crap', 'shutterstock', 'narendra', 'normal', 'gone', 'perfect', 'marri', 'mad', 'coupl', 'rig', 'later', 'knew', 'ago', 'mental', '9gag', 'attack', 'stand', 'retweet', 'credit', 'begin', 'ben', 'bullshit', 'polit', 'current', 'agre', 'longer', '12', 'arent', 'glass', '2012', 'hi', 'type', 'fart', 'might', 'memefulcom', 'touch', 'light', 'ice', '11', 'barack', 'pick', 'brain', 'visit', 'confess', 'butt', 'gymnast', 'mine', 'anyway', 'selfi', 'posit', 'lip', 'geniu', 'pole', 'happywishesnet', 'though', 'account', 'eclips', 'excit', 'set', 'ifunnyco', 'friday', 'teach', 'claim', 'bomb', 'weird', 'master', 'welcom', 'hide', 'oil', 'forev', 'adult', 'yo', 'taken', 'e', 'silenc', 'blow', 'train', 'sister', 'ride', 'polic', 'historycom', 'present', 'award', 'intellectu', 'film', 'tank', 'imagin', 'snapchat', 'join', 'insid', 'sexism', 'memeshappen', 'rock', '50', 'public', 'search', 'belief', 'republican', 'outsid', 'paid', 'remov', 'figur', 'four', 'import', 'german', 'realis', 'winter', 'rais', 'wouldnt', 'enter', 'treat', 'top', 'small', 'pretend', 'jesu', 'nose', 'exist', 'gotta', 'insan', 'corrupt', 'skill', 'pull', 'pixar', 'wtf', 'fall', 'accept', 'finger', 'andrew', 'nude', 'rob', 'nap', 'ukrainian', 'com', 'fail', 'sweet', 'aunt', 'infin', 'feed', 'ban', 'indian', 'cast', 'lucki', 'zombi', 'crime', 'sick', 'cheat', 'anymor', 'smoke', 'safe', 'park', 'warm', 'everyday', 'leg', 'behind', 'poor', 'dark', 'almost', 'endgam', 'hogwart', 'draw', 'kinda', 'interest', 'complet', 'dress', 'legend', 'h', 'relat', 'metal', 'nigga', 'tabl', 'w', 'somebodi', 'becam', 'rape', 'box', 'massiv', 'known', 'hire', 'avoid', 'argu', '500', 'extra', 'hole', 'dumb', 'couldnt', 'jongun', 'smell', 'born', 'switch', 'ga', 'air', 'deal', 'level', 'pepethefrog', 'feelsbadman', 'savepep', 'land', 'five', 'rich', 'husband', 'velociraptor', 'insult', 'billion', 'young', 'wors', 'europ', 'himym', 'shooter', 'toast', 'sadfrog', '2015', 'ran', 'porn', 'brace', 'grow', 'sonic', 'roll', 'worst', 'prime', 'server', 'arrow', 'alcohol', 'heart', 'greatest', 'memetent', 'disney', 'warn', 'messag', 'potato', 'sun', 'comfort', 'sign', '18', 'shall', 'three', 'memori', 'arm', 'intellig', 'random', 'vega', 'shot', 'joey', 'footbal', '17', 'anti', 'surpris', 'birth', 'song', 'colleg', 'admin', 'adjust', 'yesterday', 'congress', 'zipmem', 'track', 'breath', 'piec', 'front', 'copi', 'dirti', 'hasnt', 'shoot', 'earth', 'ghost', 'fbi', '75', 'alon', 'feelsgoodman', 'milk', 'hug', 'artist', 'delet', 'tape', 'bowl', 'sell', 'beach', 'seriou', 'neg', 'caught', 'bastard', 'dick', 'onlin', 'biggest', 'celebr', 'dear', 'everywher', 'trek', 'sir', 'skeptic', 'leader', 'write', 'mike', 'design', 'hoe', 'bar', 'count', 'flex', 'cancer', 'store', 'peac', 'factori', 'assum', 'memedroid', 'vladimir', 'guess', 'hat', 'r', 'cheer', 'emot', 'upon', 'belong', 'cuz', 'angri', 'harrier', 'easi', 'pop', 'christma', 'carri', 'truck', 'threaten', 'kept', 'mamecent', 'comput', 'least', 'liber', 'advertis', 'texa', 'februari', 'data', 'relationship', 'annoy', 'catch', 'attent', 'serious', 'cousin', 'drug', 'cell', 'rippep', 'punch', 'unhealthi', 'kitchen', 'histori', 'ronaldo', 'invad', 'l', 'abernathi', 'shirt', 'youtub', 'accus', 'key', 'group', 'sink', 'deport', 'belik', 'shower', 'choic', 'nightmar', 'handl', 'swim', 'rule', 'kick', 'winner', 'korea', 'upset', 'bae', 'pie', 'surviv', 'underwat', '1945', 'aussiememescomau', '2009', 'record', 'decid', 'tomorrow', 'bush', '3000', 'frabzcom', 'fair', 'pet', 'weknowmem', 'netflix', 'specter', 'tini', 'compar', 'grandpa', 'jail', 'straight', 'cold', 'monday', 'empti', 'ident', '25', 'proud', 'imgflip', 'bigger', 'lead', 'offic', '1st', 'modern', 'swear', 'none', 'charli', 'version', 'lipstick', 'shake', 'cop', 'shift', 'glow', 'rid', 'nu', 'daddi', 'moon', 'comedi', 'ha', 'knee', 'superman', 'demand', 'mistak', 'pant', 'host', 'mess', 'whisper', 'militari', 'possibl', 'politician', 'usual', 'prepar', 'slap', 'weed', 'definit', 'gandalf', 'list', 'ajabernathi', 'comic', 'spell', 'retard', 'closer', 'crook', 'uncl', 'wwwcleanmemescom', 'worth', 'toy', 'violenc', 'pool', 'refer', 'condit', 'armi', 'apolog', '911', 'amount', 'sing', 'emo', '60', 'messi', 'farcethemusiccom', 'stolen', 'choos', 'dc', 'offici', 'honey', 'spi', 'nuke', 'form', 'manag', 'racism', 'mum', 'runner', 'citi', '0', 'spend', 'soccer', 'redditor', 'pack', 'michel', 'em', 'civil', 'pound', 'british', '14th', 'agent', 'nsfw', 'poop', 'pocket', 'coral', 'soul', 'veteran', 'burn', 'witch', '23', 'prison', 'villain', 'airplan', 'boo', 'advic', 'adolf', 'updat', 'section', 'de', 'format', 'foot', 'express', 'climat', 'studio', 'road', 'wed', 'project', 'contain', 'exactli', 'kilo', 'toilet', 'equal', 'unless', 'weekend', 'till', 'hors', 'cover', 'common', 'mcdonald', 'trap', 'spread', 'wood', 'late', 'misogynist', 'basement', 'bottom', 'steak', 'syria', 'direct', 'bilbo', 'raw', 'scandal', 'leak', 'assang', 'glock', 'attach', 'n', 'demon', 'playoff', 'solv', 'blind', 'bath', 'amaz', 'chair', 'nuclear', 'sacrific', 'famou', 'bull', 'stephen', 'hawk', 'critic', 'collect', 'past', 'strength', 'clearli', 'roast', 'cooper', 'logo', 'cocain', 'cure', 'download', 'effort', 'grumpi', 'romant', 'jack', 'excus', 'savag', 'dig', 'respect', 'cannot', 'haircut', 'salon', 'freakin', 'mene', 'sens', 'reveal', 'art', 'fb', 'memecom', 'abl', 'gif', 'wet', 'costum', 'paul', 'duti', 'scale', 'sale', 'favor', 'candi', 'student', 'seri', 'noodl', 'ate', 'twilight', 'realiti', 'lee', 'x', 'hill', 'rose', 'sub', 'serv', 'entertain', 'stress', 'alert', 'shop', 'wolverin', 'far', 'declar', 'ya', 'matrix', 'cake', 'wast', 'suffer', 'wolf', 'block', 'armani', 'kook', 'privat', 'david', 'letter', 'societi', 'dot', 'cloth', 'youth', 'strong', 'bore', 'irl', 'appli', 'scar', 'huenek', 'biden', 'yall', 'jacob', 'mrhenk', 'mock', 'threat', 'bruh', 'fbcomofficialtrollbollywood', 'acid', 'crack', 'educ', 'factor', 'ideal', 'object', 'wipe', 'lannist', 'obsess', 'bruce', 'cross', 'owe', 'facebookcomcompleteg', 'completegatecom', 'skin', 'nigger', 'portrait', '19', 'lay', 'seat', '90', 'rather', 'except', 'tweet', 'sarcast', 'code', 'town', 'thano', 'inappropri', 'spoil', 'besid', 'despicablememinionsorg', 'judg', 'perci', 'damag', 'capit', 'democraci', 'camo', 'hurrican', 'employe', 'clear', 'laden', 'confid', 'croak', 'remain', 'da', 'bread', 'draft', 'wonderwoman', 'dobbi', 'pradesh', 'sort', 'impress', 'someecard', 'patch', 'bond', '30', 'pmslwebcom', 'apocalyps', 'payn', 'insert', 'beam', 'themetapicturecom', 'step', 'exact', 'apart', 'servic', 'tire', 'voic', 'rub', 'aliv', 'spoiler', 'pappusoduff', 'suddenli', 'mari', 'spot', 'convict', 'discuss', 'senat', 'shovel', 'beingcom', 'discov', 'cours', 'compliment', 'pho', 'trip', 'former', 'madison', 'valid', 'workplac', 'laser', 'pro', 'affect', 'fals', 'mexican', 'darth', 'bottl', 'loyalti', 'creator', 'cigar', 'ho', 'grenad', 'strike', 'wwwaiveosit', 'magic', 'alright', 'santa', 'starter', 'spoon', 'candl', 'lockup', 'twice', 'dinner', 'slenderman', 'advanc', 'fought', 'return', 'fascist', 'request', 'north', 'gamer', 'option', 'seem', 'troop', 'john', 'iceberg', 'dank', 'loud', 'tax', 'mallard', 'januari', 'fed', 'zero', 'disappear', 'quick', 'deer', 'difficult', 'basic', 'beard', 'holi', 'romney', 'properti', 'gryffindor', 'phil', 'pa', 'tryna', 'gentleman', 'atari', 'la', 'style', 'intern', 'trailer', 'meal', 'ruin', 'patrick', 'smoker', 'patriot', 'gym', 'abil', 'expert', 'tumblr', 'crew', 'spooki', 'blue', 'grandma', 'wise', 'paint', 'julian', 'lmao', 'tfreethoughtprojectcom', 'app', 'groceri', 'admit', 'six', 'oo', '14', 'isi', 'caitlyn', 'announc', '420', 'middl', 'continu', 'debat', 'trick', 'hyster', 'smash', 'stark', 'appar', 'hungri', 'gf', 'corleon', '24', 'lotr', 'bf', 'nomin', 'shark', 'weight', 'everytim', 'inch', 'transform', 'score', 'yell', 'cameron', 'stick', 'delici', 'planet', 'disagre', 'doubt', 'spring', '22', 'worship', 'idk', 'regret', 'facial', 'ji', 'brazzer', 'bird', 'ifunni', 'debt', 'diylolcom', 'loan', 'p', 'illeg', 'pun', 'bin', 'short', 'classroom', 'center', 'ralli', 'vacat', 'sinc', 'photobucket', 'protest', 'osama', 'produc', 'soviet', 'gate', 'dec', 'el', 'robin', 'starv', 'requir', 'getti', 'nba', 'attempt', 'stuck', 'energi', 'pose', 'exguickmemecom', 'nderscor', 'harass', 'unplug', 'hockey', '31', 'imaginari', 'invis', 'bu', 'cinema', 'chines', 'survey', 'ooh', 'detroy', 'consum', 'dunecat', 'rowan', 'redesign', 'attend', 'push', 'gordon', 'partial', 'chill', 'flu', 'nail', 'patienc', 'youd', 'login', 'umm', 'june', 'quest', 'spice', 'jordan', 'pass', 'kany', 'health', 'earn', 'earli', 'focu', 'phd', 'review', 'emegeneratornet', 'bob', 'zone', 'calm', 'hack', 'defend', 'billi', 'correct', 'panther', 'linkin', 'freez', 'driver', 'mainstream', 'workout', 'piss', 'howlett', 'adventur', 'generatornet', 'fbcomminionquot', 'buffer', 'followforfollow', 'trigger', 'silent', 'shitno', 'user', 'duff', 'develop', 'dial', 'bend', 'shhhhhh', 'tongu', 'ocean', 'busara', 'floor', 'bucket', 'liar', 'tale', 'teenag', 'clown', 'jon', 'tragedi', '2am', '10yearchalleng', 'proudli', 'parodi', 'statu', 'violat', 'abc', 'sand', 'valentin', 'situat', 'partner', 'thoma', 'fast', 'suppos', 'theft', 'graze', 'vrati', 'plaguei', 'sasuk', 'directli', 'loven', 'ringgren', 'worldi', 'petti', 'anja', 'subtitl', 'af', 'net', 'outrag', 'recreat', 'silli', 'accord', 'kamikaz', 'na', 'drew', 'mrbean', 'lo', 'presidenti', 'tough', 'icanhascheezburgercom', 'sausag', 'memegen', 'result', 'stock', 'languag', 'bye', 'edit', 'privileg', 'halfway', 'given', 'humanslav', 'friendzon', 'neck', 'eachoth', 'fool', 'dothraki', 'shoe', 'barneystinson', 'whatev', 'fear', 'chick', 'sky', 'bigli', 'august', 'baggin', 'saim', 'practic', 'goth', 'wonka', 'willi', 'fbcomfeelmyheartpain', 'depress', 'career', 'domest', 'chri', 'pronounc', 'secur', 'rate', 'sequel', 'tomarrow', 'launch', 'gear', 'pp', 'legendari', 'network', '39', 'confus', 'screen', 'ground', 'fashion', 'replac', 'nonstop', 'suppli', 'opposit', 'bartend', 'alot', 'dali', 'salvador', 'scheme', 'flag', 'kerala', 'machin', 'profess', 'electr', 'bite', 'authoritarian', 'exercis', 'germani', 'appropri', 'facebookdonb', '03202008', 'colombia', 'applaus', 'melania', 'dessert', 'hermion', 'mordor', 'repost', 'jealou', 'crimin', 'martian', 'anda', 'reveng', 'bought', 'targaryen', 'salut', 'snow', 'miniatur', 'thenewsclan', 'wool', 'bitten', 'fema', 'isast', 'funnybeingcom', 'flash', 'stubborn', 'fill', 'stone', 'rellot', 'myn', 'behairdo', 'oven', 'deep', 'shampoo', 'immedi', 'era', 'camp', 'immigr', 'kirk', 'spent', 'trilog', '516', 'buggieus', 'dump', 'conard', 'sweden', 'watchdog', 'unemploy', 'chosen1', 'alrighti', 'pray', 'nye', 'neither', 'dat', 'withoutse', 'nevermind', 'member', 'mood', 'fred', 'jadeja', 'stalin', 'knowledg', 'incept', 'ravindra', 'stereotyp', 'superior', 'speed', 'dope', 'peter', 'imao', 'crash', 'gona', 'quota', 'pill', 'christian', 'investig', 'coulson', 'uwebollock', 'whatchu', 'quiet', 'kneel', '2nd', 'childhood', 'meanwhil', 'aceth', 'custom', 'juggaloci', 'sold', 'etern', 'abus', 'central', 'qualifi', 'research', 'wwwww', '180', 'ad', 'fellow', 'nem', 'lowkey', 'leaf', 'cancel', 'addict', 'bazinga', 'bless', 'prez', 'barricad', 'dentist', 'slice', 'um', 'grind', 'nake', 'meregeneratornet', 'belov', '352018', 'thirsti', 'dare', 'etch', 'mal', 'locat', 'tonight', 'scare', 'difficulti', 'pile', 'march', 'muslim', 'michael', 'georg', 'c', 'resolut', 'broken', 'dixon', 'diaz', 'templat', 'stranger', 'technic', 'normi', 'travel', 'uh', 'capri', 'finda', 'justin', 'wing', 'caughttoni', 'homag', 'htmlheadmeta', 'contenttexthtml', 'httpequivcontenttypestyl', 'typetextcssolmargin0padding0t', 'butter', 'slept', 'across', 'td', 'snap', 'memesxyz', 'accardo', 'repeat', 'dinosaur', 'disproportion', 'canadian', 'hospit', 'term', 'broke', 'jenner', 'dani', 'demonstr', 'youll', 'idont', 'axe', 'franc', 'nurs', 'jamaica', 'saddest', 'certif', 'brilliant', 'logan', 'pneumonia', 'atkinson', 'funnycat', 'proof', 'laptop', 'passeng', 'summer', 'thursday', 'unchain', 'steven', 'ir', 'dammit', 'hhd', 'regress', 'princ', 'theism', 'howard', 'reciev', 'poss', 'django', '388', 'lemon', 'commit', 'weak', 'gift', 'felt', 'backward', 'betray', 'orang', 'tobey', 'wave', 'hiwev', 'didyouknowblogcom', 'whatdoumemecom', 'secretari', 'experi', 'starbuck', 'memecentetcom', 'charsetutf8', 'bail', 'imprison', 'neutron', 'valu', 'owner', 'brush', 'flood', 'south', 'cultur', 'bijil', 'disast', 'religi', 'victori', 'reviv', 'colman', 'chip', 'ascend', 'memezcom', 'bcbaba', 'remind', 'fridg', 'jdt', 'cost', 'ignor', 'wroon', 'centuri', 'administr', 'wdt', 'fiscal', 'wrogn', 'cube', 'bee', 'jk', 'woke', 'basebal', 'zom', 'australian', 'improv', 'wri', 'explor', 'wpt', 'urg', 'arriv', 'thali', 'sorelatabletumblrcom', 'phelp', 'hundr', 'funnypicspluscom', 'lima', 'lizard', 'duck', 'skip', 'iceland', 'goal', 'dirt', 'fbwallpicscom', 'wore', 'prefer', 'antagonist', 'hatr', 'puppi', '935', 'role', 'justplay', 'howimetyourmoth', 'chef', 'vaniti', 'ussf', 'g', 'homework', 'african', 'cowboy', '21', 'bulli', 'harley', 'report', 'ny', 'fell', 'field', 'merica', 'tempor', 'tit', 'jakemakesmem', 'involv', 'empow', 'buff', 'whata', 'introduc', 'lock', 'bebaba', 'boromir', 'til', 'split', 'carlsburnbook', 'hahahaha', 'expir', 'captainci', 'jai', 'scumbag', 'dri', 'haroldluvmeig', 'uttar', 'west', 'shrek', 'hil', 'bathroom', 'ahead', '16', 'cloud', 'decad', 'non', 'ismil', 'reapairi', 'stole', 'ne', 'robot', 'cup', 'illiter', 'mous', 'wednesday', 'roflbot', 'estat', 'chosen', 'french', 'cffi', 'md', 'lover', 'hawkey', 'soup', 'pain', 'enemi', 'reassur', 'reaccommod', 'solo', 'float', 'storm', 'novemb', 'cook', 'makinracist', 'collid', 'themfilthi', 'clap', 'kike', 'base', 'mamelenl', 'al', 'khal', 'drag', 'virtu', 'stuff', 'mix', 'tinder', 'apr', 'button', '1980', 'cator', 'detail', 'richand', 'thousand', 'pig', 'tall', 'rodrigo', '80', 'captainon', 'dutert', 'nan', 'con', 'cherish', 'bra', '70', '151', 'adam', 'dathi', 'weve', 'privaci', 'diari', '600', 'willfind', 'topic', 'pui', 'decis', 'bake', 'pog', 'suggest', 'stewart', 'riot', 'notar', 'cana', 'corpor', 'overli', 'hind', 'blanket', 'sneez', 'featur', 'martha', 'spider', 'beyonc', 'memebasecom', 'mame', 'condom', 'titl', 'aye', 'unhappi', 'where', 'jame', 'joseph', 'eddard', 'patriarchi', 'gop', 'gunfre', 'deflat', 'waazzzuuuuuppo', 'nalocom', 'grim', 'waazuuuuuup', 'wazzzuuuuppppp', 'memecentercomgodfather85', 'werent', 'mc', 'talent', 'icanhascheezburg', 'www', 'archiv', 'cheerio', 'animatron', 'gollum', 'gandalfwhit', 'mummi', 'greet', 'meirl', 'equivel', 'bromanc', 'hoemanc', 'sean', 'someecardscom', 'shadow', 'rent', 'prank', 'bubbl', 'douch', 'matur', 'simanca', 'carlo', 'flame', 'eee', 'logic', 'promot', 'redneck', 'anxieti', 'canteven', 'approach', 'toucan', 'homeboy', 'bother', 'slaveri', 'lifeguard', 'imigflipcom', 'marathon', '71', 'veggi', 'wsoviettoucan', 'eaten', 'stud', 'monster', 'jefferson', 'engin', 'buzzfe', '9gagcomgag5186230', 'chest', '29', 'sacrif', 'wealth', 'heck', 'th', 'tortur', 'toler', '15k', 'pricelesscrav', 'unicorn', 'snore', 'bun', 'bank', 'per', 'asia', 'dan', 'chennai', 'realdonald', 'wizard', 'sank', 'taylor', 'fursadelosdiosesfacebookcom', 'lit', 'diet', 'april', 'lookin', 'footag', 'neil', 'elon', 'colorado', 'annual', 'toni', 'chemic', 'rickgrim', 'stiernecom', 'nearest', 'enlighten', 'lege', 'polish', 'frankincens', '13', 'corsi', 'dean', 'inherit', 'oppos', 'cadgrm', 'di', 'lifeisgood', 'motherfuck', 'math', 'httpchuornotnetcuratecomstoriesrahulgandhimem', 'narnia', 'xd', 'legal', 'iron', 'line', 'asleep', 'abundantli', 'minist', 'tour', 'sc', 'justic', 'exampl', 'dish', 'titti', 'invent', 'necklac', 'invit', 'popular', 'fault', 'dolikethat', 'program', 'neo', 'major', 'watermelon', 'twd', 'catbre', 'buket', 'heroin', '3rd', 'loser', 'finest', 'queen', 'institut', 'sent', 'particip', 'ami', 'marshalleriksen', 'truli', 'coma', 'fabul', 'tedmosbi', 'bit', 'xam', 'essenti', 'disabl', 'anybodi', 'unlov', 'erg', '2000', 'bloom', 'dono', 'tum', 'majakiacom', 'cooki', 'cb', 'mere', 'shape', 'argument', '1955', 'jule', 'mexico', 'zayn', 'humor', 'rosetta', 'recov', '161', 'lotsofhumorcom', 'immort', 'moral', 'payback', 'glad', 'comet', 'screw', 'prove', 'transit', 'mememakernet', 'interact', 'charlwood', 'vincent', 'funniest', 'exclus', 'collegememes99', 'taco', 'cesa', '1933', 'hahahahahaha', 'musk', 'china', 'calmer', 'item', 'ifunnymobi', 'holla', 'igot', 'freeli', 'shell', 'propaganda', 'buddi', 'balloon', 'quinn', 'killsol', 'hollywood', 'unsink', 'trollm', 'unrealist', 'il', 'sock', 'navi', 'hahahahaha', 'wild', 'mar', 'wrap', 'handsom', 'q', 'mein', 'sh', 'awar', 'httpmemecrunchcom', '67', 'period', 'anytim', 'dictat', 'struggl', 'dost', 'metro', 'wrote', 'rath', 'wich', 'breh', 'moabmoth', 'joelljerrett', 'lectur', 'scoopwhoopcom', 'match', 'rocket', 'movieifunnyco', 'defeat', 'moab', 'imposs', 'tolkien', 'victim', 'anon', 'er', 'dath', 'negro', 'cock', 'suicid', 'flat', 'isgay', '00', 'unlock', 'wardrob', 'perfum', 'instalik', 'muggl', 'auto', 'threw', 'bobamamem', 'hip', 'fulli', 'turkey', 'brown', 'hd', 'te', 'isa', 'motiv', '05', '1207', 'citizen', 'teeth', 'plot', 'georgehwbushfuner', 'nerd', 'poison', 'gameofthron', 'fredtjoseph', 'egg', 'su', 'frederick', 'laundri', 'sec', 'began', 'epli', 'raptor', 'sciss', 'wander', 'roblox', 'payin', 'wifi', '36k', '14k', 'snort', '6h', 'jerrytravon', 'damp', 'paper', 'travon', 'erri', 'rise', '101', 'ten', 'effect', 'cracker', 'rubix', 'bigotri', 'burst', 'innoc', 'web', 'donat', 'honest', 'influenc', 'destruct', 'sarcasmlolcom', 'accur', 'reddit', 'price', 'higher', 'church', '1081', 'potenti', '55', 'captur', 'fir', 'doubl', 'invest', 'bare', 'bleed', 'chees', 'cuban', 'vet', 'liberalspleas', 'royal', 'xphaze', 'magazin', 'blend', 'kavanaugh', 'seasov', 'amen', 'rifl', 'bobama', 'tie', 'declin', 'mosaic', 'curat', 'contriv', 'persona', '10yearschalleng', 'paramount', 'davo', 'otour', 'ownedcom', 'despic', 'endors', 'payup', 'browser', 'ppl', 'thirteen', 'upscalequot', 'cum', 'total', 'violent', 'mod', 'aragon', 'pink', '1248pm', 'preciou', 'berni', 'sander', 'tech', 'san', 'illegali', 'martin', 'prusunod', 'fund', 'hurriedli', 'weapon', 'oppress', 'poni', '1999', 'terrorist', 'desper', 'ww3', 'slut', 'nois', 'funnier', 'damm', 'poslocom', 'whoever', 'outi', 'patiem', 'olcoseb', 'folk', 'tellimg', 'natur', 'assist', 'event', 'terror', 'franchis', 'makeup', 'contact', 'expens', 'sword', 'sugar', 'troubl', 'wick', 'len', 'offens', 'ear', 'photograph', 'shield', 'innov', 'eric', 'follow4follow', 'convers', 'vice', 'font', 'impact', 'commun', 'sharp', 'battlefield', 'timelin', 'limit', 'stage', 'pee', 'vagina', 'danc', 'ce', 'author', 'texan', 'quotein', 'bunch', 'sudden', 's6e12', 'singer', 'cataddictsanonymous', 'ted', 'benjamin', 'tool', 'havin', 'makeamemecom', 'outfit', 'nflmeme', 'sincer', 'quotescom', 'mcnugget', 'nearli', 'saya', 'snapon', 'bag', 'hurri', 'pilot', 'tea', 'thor', 'guard', 'facepalm', 'rain', 'lesbian', 'fanfict', 'somewher', 'staff', 'mysteri', 'superhero', 'punish', 'watchman', 'vintag', 'ti', 'babyshow', '69', 'jean', 'johnni', 'lotion', 'contracept', 'dudesbelik', 'congratul', 'niggasbelik', 'fox', 'ador', 'colour', 'motion', 'elev', 'rvcj', 'reserv', 'geek', 'nochil', 'angel', 'epic', 'precis', 'depp', 'carpet', 'streak', 'nochillzon', 'pud', 'healthi', 'brazil', 'incred', 'cuickmemecom', 'dildo', 'nald', 'hedgehog', 'paycheck', 'nick', 'yep', 'champion', 'followm', 'replic', 'christ', 'gang', 'pin', 'explos', 'tyrion', 'surrend', 'map', 'brand', 'imgiipcom', 'visibl', 'how', 'attorney', 'rice', 'grab', 'tamfli', 'pal', 'tuesday', 'boast', 'inject', 'textual', 'happywism', 'magnabad', 'permiss', 'deltathrillar', 'ripgen', 'contou', 'pmwhiphop', 'anarchocommunist', 'comed', 'fuckjerrysdraft', 'horrifi', 'anarchist', 'pleasur', 'chose', 'denni', 'rodman', 'bewar', 'articl', 'po', 'blew', 'bounc', 'ingil', 'yr', 'inspir', 'amp', 'sociopath', 'concern', 'grant', 'babylon', 'daeneri', 'danygonebad', 'thatjacket', 'some', 'along', 'global', 'breakdown', 'kicker', 'uniqu', 'heaven', 'vaccin', 'asm', 'includ', 'bruuuuuuhhhh', 'asim', 'absurd', 'lavar', 'sequest', 'midair', 'gronk', 'rand', 'freak', 'nbamem', 'flumind', 'endthef', 'twinkl', 'accomplish', 'ronpaul', 'niccag', 'kniw', 'antivaxx', 'inner', 'poker', 'race', 'substitut', 'enabl', 'officialinternet', 'unfair', 'hai', 'mutat', 'shame', 'snape', 'cho', 'duz', 'karat', 'sentenc', 'bobbob', 'minor', 'domin', 'gaze', 'sigh', 'pasanga', 'granger', 'wasley', 'privacy2018', 'standard', 'gerald', 'cyru', 'earl', 'grey', 'process', 'kitten', 'drama', 'cricket', 'ant', 'noon', 'android', 'agenda', 'chaplin', 'charl', 'allegi', 'wilfordbrimli', 'solar', 'slytherin', 'cash', 'lower', 'fli', 'moan', 'furnitur', 'trial', 'headphon', 'nein', 'shave', 'eyebrow', 'friendli', '27', 'feb', 'bigbon', '1973', 'muai', 'guilti', 'maam', 'revers', 'thai', 'od', '216', 'resist', 'rudi', 'possess', 'mafia', 'poo', 'chimney', 'snake', 'nicki', 'tab', 'hulk', 'consent', 'purpos', 'priest', 'memecentercomcom', 'mileven', 'rabe', 'mikesmemeso', '07', 'hijack', 'hood', 'liverpool', 'superbowl', 'maguir', 'meminionsorg', 'meta', 'channel', 'await', 'terribl', 'ultra', 'pappu', 'weav', 'horribl', 'assault', 'nig', 'vin', 'sabc', 'doin', '40', 'y', 'buffalo', 'rude', 'excel', 'ickmemecom', 'mask', 'kimjong', 'babe', 'ringsyour', 'understood', 'alarm', 'contract', 'action', 'platform', 'melt', 'green', 'chopstick', 'scientist', 'bullsht', 'contort', 'boundari', 'pancak', 'getusi', 'bet', 'cabl', 'scroll', 'escap', 'hodor', 'harriet', 'orc', '87c', 'acm', 'spreadabl', 'row', 'bot', '2020', 'conserv', 'unibrow', 'kentucki', 'mutant', 'drown', 'forti', 'mate', 'melenia', 'yearschalleng', 'within', 'diplomaci', 'microphon', 'netanyahu', 'prematur', 'grade', 'transgend', 'marin', 'thope', 'cloak', 'accessori', 'slow', '537', 'elman', 'due', 'selfhat', 'absolut', 'doggi', 'meant', 'sleepi', 'album', 'skeleton', 'imfao', 'e3', 'theyv', 'theoscar', '1994', 'peasant', 'bench', 'breakup', 'bass', 'haunt', 'lesson', 'exchang', 'spongebob', 'downvot', '8th', 'will', 'legen', 'nasti', 'mountain', 'jackson', 'tripl', 'barri', 'craziest', 'atheist', 'min', 'background', 'ceel', 'happycat', 'lift', 'profil', 'greg', 'karen', 'holder', '200', 'ancestor', 'farther', 'bulla', 'memet', 'madhya', 'somalia', 'istock', 'often', 'ii', 'propos', 'heavili', 'bow', 'exhibit', 'missil', 'board', 'grandson', 'honeyduk', 'karl', 'coincid', 'qualiti', 'depart', 'asshol', 'thatll', 'cotton', 'rapper', 'constant', 'donna', 'hanniti', 'kiuteni', 'built', 'whip', 'funnyshit', 'trophi', 'catbreedselectorcom', 'chiellini', 'mamamoon', 'alli', 'johnnydepp', 'wor', 'lone', 'trend', 'ah', 'surfac', 'poll', 'empir', 'rebel', 'nopewrong', 'thunder', 'theme', 'nword', 'humong', 'authent', 'youactual', 'guam', 'nitin', 'mukesh', 'filthi', 'unabl', 'aw', 'seek', 'organ', '300', 'memecreatorcom', 'hailin', 'teddi', 'wine', 'boner', 'iq', 'rennebrog', '2008', 'sht', 'skt', 'pregnanc', 'timepar', 'orgasm', 'funer', 'ross', 'kgb', 'closet', 'warfar', 'cuba', 'momma', 'spidey', 'sen', 'detect', 'legion', 'confirm', 'connect', 'antihillari', 'construct', 'whose', 'openli', 'bullet', 'roug', 'certainli', 'memegeneratorcom', 'anakin', 'mu', 'ahemm', 'commonfolk', 'tho', 'afriendofmin', 'bokuwachikuwa', 'safer', 'funnyismcom', 'complex', 'lego', 'grown', 'eyelin', 'marriak', 'yasss', 'gofollow', 'pearlsuicid', 'recognit', '1964', 'fhrer', '1943color', 'ukrain', 'stern', 'ryan', '54', 'allkpopcommem', 'crimea', 'stem', 'written', 'zippoman777', 'patriarch', 'divorc', 'bt', 'mass', 'memesdaili', 'bubblesand', 'dcmarvelcomicsmovi', 'wonti', 'professor', 'mcgrabbin', 'rewatch', 'recycl', 'trash', 'comfi', 'arc', 'penalti', 'jfk', 'target', 'halloween', 'scari', 'boat', 'grizzli', 'river', 'giovanni', 'huge', 'span', 'walker', 'execut', 'funnymem', 'secretli', 'atlant', 'daili', 'aragorn', 'tragic', 'jeremi', 'phish', 'fantasi', 'castl', 'injuri', 'smartb', '99', 'unfortun', 'intemet', 'ngflipcom', 'nowher', 'peekab00', 'ishit', 'liberti', 'hq', 'cheap', 'peni', 'viral', 'island', 'gr8', 'sinatra', 'zuckerbergmem', 'meow', '84', 'synthet', 'gc', 'court', 'elminin', 'unstauratteripouvom', 'pundit', 'subject', 'ay', 'kitchencom', 'philippin', 'fbcomminion', 'wef', 'unti', 'gari', 'pl', 'cartoon', 'pinal', 'pg', 'caption', 'rejoin', 'pn', 'freedommemescom', 'fifti', 'ridicul', 'photogen', 'bikerider9', 'trendingnutscom', 'age20', 'becuas', 'wrench', 'kidney', 'cumcel', 'girli', 'handcraft', 'starkha', 'ue', 'onbamem', 'photoshop', 'cathedr', '11025', 'killallmen', 'pc', 'empower', 'reader', 'wyo', 'hashtag', 'kowalski', 'sibl', 'maxican', 'east', 'hilift', 'funnymobi', 'realshit', 'shade', 'tap', 'juli', 'hop', 'bacon', '1be', 'usernam', '3you', '4congratul', 'schutz', 'surround', 'bluetooth', 'gandalfwhite23', 'bah', 'butthol', 'squirrel', 'shown', 'sarcasm', 'deku', 'juan', 'mightiest', 'frigger', 'melioda', 'quitter', 'matt', 'add', 'coach', 'monkey', 'nfl', 'bff', 'bereit', 'smug', 'van', 'friendship', 'simpson', '2011', 'op', 'inicht', 'easier', 'hay', 'charm', 'irscid', 'prom', 'smart11', 'walickrniemecom', 'funnycatmemesxyz', 'quarterback', 'nah', 'bradi', '47', 'outcom', 'arabia', 'saudi', 'rill', 'case', 'justeguot', 'postmortem', 'whaty', 'vile', 'iran', 'tight', 'spew', 'cream', 'jelli', 'egalitarian', 'sunday', 'saturday', 'hilton', '5e', 'artifici', 'seatbelt', 'latina', 'drevil', 'menshumor', 'nofucksgiven', 'ydefend', 'nailedit', 'martial', 'insist', 'yard', 'weinsteinp', 'marg', 'wrestlingjok', 'minimart', 'apitnobaka', 'blsnapz', 'memelenl', 'guid', 'jan', 'cl', 'corner', 'g20', 'fist', 'castro', 'glue', 'hed', 'lightbulb', 'doi', 'lion', 'horni', 'drawang', 'doioh', 'behav', 'exi', 'admir', 'whartomernecom', 'zut', 'thate', 'coric', 'maturan', 'xx', 'balanc', 'area', 'engag', 'boob', 'menecerl', 'gandalfthegrey', 'breast', 'harder', 'shouldnt', 'rail', 'karma', 'tide', 'whatch', 'accid', 'mobil', 'anonym', 'tyre', 'multipl', 'rt', 'reap', 'humuna', 'kkk', 'ogl', 'siri', 'derrick', 'chimichanga', 'ambul', 'council', '230', 'soemth', 'thave', 'digitalsynopsiscom', 'aaaargh', 'memescrunchcom', 'rougha', 'ejacul', 'underworld', 'nhl', 'montreal', 'ch', 'themgainzoffici', 'dankland', 'toaster', 'digest', 'homeless', 'zuc', 'tile', 'mac', 'gra', 'dawg', 'papa', '22nd', 'psuedu', 'geti', 'twinsi', 'shock', '1938', 'reliabl', 'owl', 'brosb', 'andi', 'qwertyuiop', 'okayyyyyi', '173', 'isengard', 'zxcvbnm', 'wthe', 'brought', 'bedroom', 'asdfghjkl', 'oop', 'sudoku', 'xoxo', '1234', 'memeladen', 'suscrav', 'forward', 'iamstev', 'disappoint', 'leonard', 'wolfecom', 'unus', 'noroviru', 'recal', 'lmfao', 'justifi', 'carolina', 'dubai', 'richard', 'o', 'dalla', 'wewant', 'hunger', 'championship', 'doogi', 'mardi', 'haphazardli', 'duct', 'teen', 'unlik', 'mgom', 'slam', 'montrealmemescom', 'omon', 'memesnet', 'puppet', 'swift', 'dairi', 'houser', 'satisfi', 'coc', 'logang', 'bedfellow', 'bankster', 'flip', 'memecr', 'si', 'censor', 'ojha', 'kindli', 'cabinet', 'kindergarten', 'bald', 'hiphop', 'epistemolog', 'deni', 'sesam', 'utsav', 'thatutsavojha', '1989', 'profession', 'lick', 'reproduct', 'igmarvelmem', '1971', 'cr', 'lyin', 'circa', 'larryisr', 'phrase', 'skyler', 'gandalfthewhit', 'bettermemecom', 'chriscross', 'warrior', 'pregnant', 'ya2x', 'squishi', 'timesheet', 'pe', 'clue', '46', 'destori', 'polici', 'quicki', 'journey', 'milleni', '504', 'foreign', 'sober', '449', 'sarah', 'felix', 'pt', 'foster', 'unzip', 'priceless', 'impract', 'max', 'sang', 'unstabl', 'kennyflow', 'memesc137', 'illustr', 'shirtspic', 'funnni', 'insecur', 'hobbit', 'octob', 'adulthumor', 'brett', 'dh', 'mshotyour', 'lack', 'instasingl', 'latest', 'geez', 'proper', 'soft', 'twist', 'frozen', 'mrw', 'yiu', '434', 'uzumaki', 'jewish', 'unbeliev', 'isold', 'salt', 'tuos', 'wond', 'nanosompon', 'misogin', 'propan', 'ifella', 'shitti', 'nephew', 'sorta', 'catlik', 'religion', 'perfectli', '49', 'kfc', 'mansion', 'comrad', 'comin', 'imgflipi', 'lust', 'incom', 'rush', 'commission', 'floppi', 'joinedirsa', 'examin', 'gabriel', 'iclear', 'funnymemecom', 'barclay', 'cent', 'johnson', 'bi', 'ab', 'just', 'memegenerator', 'barbara', 'wayn', 'armor', '255', 'est', 'explod', 'gentemen', 'obvious', 'whichev', 'theoden', '078', 'frickin', 'slightli', 'swap', 'cara', 'rephras', 'poppa', 'miungisi', 'address', 'ray', 'tormund', 'microsoft', 'riid', 'jata', 'mamelenteri', 'butterstock', 'imageid', 'paw', 'asham', 'wehatepopcountrycom', 'dragon', 'revolut', 'solut', 'sourc', 'emerg', 'fumat', 'theblerdvis', 'thinki', 'ersteck', 'shuttersto', 'hmm', '4540', '243', 'uteru', 'hannah', 'wwwcontatto', 'mounti', 'behold', 'despit', 'nag', 'suspicion', 'adopt', 'chine', 'couli', 'lunch', '7am', 'skinni', 'useless', 'ebeentheretho', 'hotter', 'vh1', 'ohh', 'midnight', 'marx', 'blowjob', 'snowbal', '7th', '6th', 'reject', 'bridg', 'especi', 'b1tch', 'cd', 'when', 'economi', 'unsuccess', 'bookcomnbamcamin', 'oppo', 'wwwcrickettrollscom', 'viru', 'holiday', 'handd', 'soliv', '5am', 'cavengerssup', 'microwav', 'narrow', 'starta', 'motorcycl', 'hon', 'homi', 'gangortak', 'yolo', 'bio', '66', 'zukerberg', 'dreamhous', 'barbi', 'command', 'goddamnit', 'sweat', 'repeal', 'lawn', 'imgilipcom', 'mower', 'thronesmem', 'interview', 'uk', 'soldier', 'smith', '83', '45', 'knife', 'bronn', 'aaah', 'livememecom', 'extrem', 'whatho', 'rach', '56', 'sake', 'nope', 'self', '2h', 'geno', 'nel', 'seattl', 'morethan', 'harvin', 'sunshin', 'webcast', 'wenn', 'semest', 'waist', 'antenna', 'fellowship', 'tubman', '495', 'surgeri', 'brynndowney', 'lifetim', 'sportsmemecom', 'homophobia', 'oswald', 'preheat', 'lifeboat', 'dealer', 'sobas', 'nomine', 'percent', 'oxygen', 'muscl', 'moreso', 'mwhahahahaha', '19332016', 'fyck', 'macintosh', 'vandal', 'link', 'imagem', 'een', 'assassin', 'parliament', 'feder', 'clownfish', 'starvat', 'confront', 'giant', '207r', 'slt', 'clog', 'shutupimtalkingcom', 'portia', 'fric', 'twinki', 'tempt', 'danap', 'mvp', 'simon', 'furiou', 'lyric', 'golden', 'blood', 'peta', 'nyc', '43', 'visa', 'complic', 'shat', 'breakfast', '239', 'selector', 'villian', 'among', 'rope', 'beef', 'determin', 'reuter', 'tanksinatra', 'awak', 'forrest', 'satisfact', 'brutal', 'catbreedselect', 'wheel', 'chilli', 'mirror', 'toxic', 'masculin', 'fruit', 'dunk', 'endang', 'speci', 'select', 'basturd', 'fuckuk', 'isil', 'memeshapercom', 'pope', 'murderclown', 'somehow', 'password', 'local', 'market', 'iti', 'softwar', 'thefunnyintrovert', 'tsweezy93', 'putinmemess', 'poopcultureindia', 'pci', 'xavier', 'billa', 'whatsapp', 'ninjago', 'chewbacca', 'flashback', 'decaffein', 'tam', 'faster', 'bout', 'product', 'wii', 'drgrayfang', 'tyrant', 'plastic', 'filihi', 'justiccicaguemem', 'puta', 'ac', 'mea', 'majest', 'giroca', 'girlbyefriday', 'infidel', 'coffeelov', 'deathbeforedecaf', 'phra', 'smileu', 'secrei', 'westero', 'diriu', 'mememak', 'meri', 'integr', 'spare', 'wwwscoopwhoop', 'wwwscoopwhoopcom', 'mgpcom', 'yu', 'susan', 'badg', 'se', 'tll', 'hn', 'toddler', 'thet', 'snatch', 'thetcellit', 'volunt', 'anatomi', 'battl', 'creepi', 'walsh', 'furi', 'imgpcom', 'helmet', 'pradhan', 'xenophob', 'quit', 'avengersmem', 'bigot', 'scottish', 'crowd', 'client', 'harmon', 'hbo', 'wound', '21st', 'winterfel', 'revis', 'mic', 'mewhat', 'buri', 'patient', 'low', 'ligma', 'sadanduselesscom', 'seccom', 'grass', 'quickli', 'recess', 'racistmemescom', 'rachel', 'guysthen', 'bankstersth', 'ultron', 'lightskin', 'siphon', 'gasolin', 'thief', 'vegan', 'label', 'leonardodicaprio', 'vision', 'steemit', 'loki', 'itdari', 'evolut', 'tomato', 'wig', 'mitten', 'disturb', 'm', 'bunnymem', 'ci', 'wage', 'incest', 'boost', 'hypnotist', 'nighth', 'eww', '36', 'waiter', 'vinci480', 'gather', 'although', 'dumbass', 'hypnot', 'fort', 'duquesn', '1758', 'wecant', 'africa', 'accumul', 'denethor', 'tlale', 'capitalist', 'gapbagapnet', 'gapbagapu', 'tsouk', 'rapid', 'lax', 'ditf', '32', 'shout', 'chicago', 'graduat', 'pansi', 'rewind', 'jaim', 'kingslay', 'stewardslay', 'brows', 'wat', 'recogn', 'combo', 'copyright', 'crippl', 'varianc', 'cemeteri', 'checkmat', 'unfollow', 'davidickecom', 'england', 'interrog', 'httpowlyghzj30jfmex', 'aquarium', '9th', 'legenwait', 'godsmack', 'bust', 'monica', 'ido', 'mm', 'thug', 'passport', 'throttl', 'ieat', 'measur', 'painter', 'dadd', 'mam', 'memegeneraornet', 'dedic', 'poutica', 'altern', 'f1', 'protrump', 'laughingcolourscom', 'reset', 'scold', 'fri', 'soda', 'har', 'sel', 'eam', 'hann', 'snicker', 'chancellor', 'angela', 'merkel', 'willywonka', 'genewild', '10year', '120', 'socialist', 'alt', 'weasley', 'memionscom', 'sermon', 'luv', 'habsburg', 'sickli', 'markl', 'meghan', 'theonion', 'quickmemecon', 'crapcom', 'wikipedia', 'deaneggsandsam', 'scratch', 'compromis', 'nine', 'frame', 'confido', 'sobrno', 'parker', 'erod', 'heb', 'disapprov', 'mater', 'bingo', 'paradis', 'coal', 'model', 'setheverman', '382', '321', '226', 'minesweep', 'antichrist', 'interrupt', 'thatveganaussieblok', 'sadanduseless', 'thrill', 'allfemal', 'wholesom', 'regul', 'oiler', 'glide', 'ludicru', 'everythingbutdc', 'din', 'blerdvis', 'robe', 'unexpect', 'nbc', 'fbheart', 'memelenleri', 'morgu', 'skydiv', 'yourcelebrityfactstumblrcom', 'respond', 'scissor', 'sheet', 'magneto', 'elderli', 'digit', '4th', 'rd', 'huh', 'didyouknotumblrcom', 'palac', 'inal', 'hardli', 'gasp', 'legalfeminista', 'taccident', 'eastcoasteden', 'chump', 'chimp', 'banana', 'tuna', 'lighter', 'judgement', 'fanci', 'prick', 'zam', 'gap', 'japan', 'ottomicbluecom', 'upsid', 'avaflav', 'aswear', 'yeet', 'fromth', 'roomcom', 'cowork', 'unlucki', 'highlight', 'trwa', 'qatar', 'hp', 'laina', 'conb', 'ayoff', 'ssshhhhh', 'levant', 'stater', 'temegeneratornet', 'egoid', 'gu', 'squat', 'upload', 'oreo', 'tellu', 'ca', 'theyll', 'newton', 'quickmemeon', 'upgrad', 'shaggi', 'clone', 'conquer', 'cristiano', 'quarter', 'adera', 'unionbank', 'log', 'ipad', 'yurt', 'akhilesh', 'phaser', 'spencer', 'farmer', 'jeff', 'muh', '208', '209rite', 'hipster', 'seguridad', 'tese', 'dond', 'indical', 'elvish', 'intellect', 'weneedfemin', 'thanksgiv', 'yup', 'physicist', 'brave', 'inabl', 'benjen', 'hunt', 'chase', 'ladylik', 'mamegeneratorcom', 'erni', 'collabor', 'checkout', 'babysit', 'fck', 'dncmedia', 'treason', 'ingl', 'increasingli', 'obscur', 'raider', 'gettin', 'gray', 'segment', 'solid', 'heal', 'calori', 'joffrey', 'del', 'traducir', 'heel', 'liquor', 'megyn', 'kelli', 'ginger', 'exkgb', 'fourth', 'thereven', 'nsa', 'surveil', 'ap', 'wiretap', 'laughter', 'rafael', 'sania', 'bracket', 'rapist', 'print', 'pen', 'gold', 'owen', 'ticket', 'infring', 'golf', 'sevak', 'discord', 'entertalescom', 'milwauke', 'spori', 'meniscu', 'sniff', 'crabb', 'constantli', 'mrdata', 'hacker', 'barber', 'slay', 'figer', 'sauc', 'rib', 'previou', 'nervou', 'oscars2016', 'bestactoroftheyear', 'nemegeneratornet', 'document', 'driveway', 'moscow', 'sega', 'chaf', 'droid', 'muhammad', 'bambi', 'utubewayarmi', 'ishould', 'wallet', 'prabha', 'relax', 'liquefi', 'mmu', 'premier', 'realm', 'choke', 'justiceleaguemem', 'georgio', 'slogan', 'inher', 'inhuman', 'joke4funcom', 'dropoff', 'bog', '220pm', 'htisticlicensecom', 'grima', 'jump', 'sprint', 'envi', 'leaguemem', 'puddin', 'laid', 'nightw', 'pillow', 'sumerian', 'squeezin', 'lc', 'marvelcom', 'miracl', 'gloriou', 'stabl', 'boneless', 'spooktob', 'xma', 'int', 'devic', 'sneak', 'condescend', 'wwwdorktowercom', 'condon', '250', 'tamper', 'fur', 'forgiv', 'site', 'irma', 'trench', 'ancient', 'hahahah', 'transplant', 'lawyer', '51', 'albu', 'humorkingdom', 'eu', 'thin', 'analysi', 'bark', 'aliensih', '10iul', 'mill', 'nelson', 'wax', 'swallow', 'memeworld', 'vaa', 'instamood', 'ruler', 'flour', 'penn', 'alwayswin', 'reward', 'wikihow', 'redecor', 'jabouki', 'whod', 'similar', 'jacket', 'resembl', 'reven', 'embrac', 'sea', 'sustain', 'slipperi', 'hurl', 'snowi', '15th', 'boi', 'toward', 'diydespaircom', 'suitabl', 'booster', 'nearchuck', 'signific', 'burger', 'repopul', 'mi6', 'myrvei', 'asylum', 'odd', 'gani', '150pm230pm', 'slari', 'twinfinit', 'krage', 'listock', 'parson', 'aedavid', 'crypto', 'dv', 'ribbon', 'iftock', 'jy', 'brad', 'mcgonagal', 'toker', 'khodorkovski', 'clout', 'publish', 'insulatedstagola', 'wyrmtongu', 'retir', 'soundscienc', 'pragmaticpolit', '8x13', 'deliv', 'fasten', 'salad', 'prisma', 'gizmodo', 'tommi', 'avada', 'dunno', 'midget', 'faculti', 'loung', 'applic', 'jane', '82816', 'knighthood', 'nut', 'feinstein', 'shh', '113', 'dian', 'etc', 'doot', 'officalgen', 'loyal', '650', '785', '432', 'tribbiani', 'wesley', 'heas', 'fandom', 'testifi', 'latino', 'fee', 'awoman', 'carey', 'nowaday', 'prize', 'longrun', 'licenc', 'wwwhiphopmeasurecom', 'benefit', 'zuck', 'horoscop', 'gunman', 'pogo', 'gothshakira', 'toothbrush', 'puffin', 'disinfect', 'taxi', 'orphan', 'screenshot', 'miltonlawsoncom', 'thick', 'amanda', 'rcede', 'ishio', 'radio', 'wisdom', 'yaaa', 'hr', 'itll', 'dent', 'wonderytho', 'sore', 'meouch', 'mymuscl', 'ima', 'hottest', 'offhandedli', 'biblic', 'und', 'calvin', 'diamond', 'stillrealtouscom', 'gawd', 'duidditig', 'harveyllb', 'splitsvilla', 'maleworship', 'dismiss', 'treatment', 'conscious', 'observ', 'medal', 'redredwin', 'giveuahint', 'cow', 'crisp', 'lyanna', 'manufactur', 'entiti', 'masouerad', 'drool', 'miser', 'intoler', 'cultureand', 'dutch', 'ravenclaw', 'thefreethouchtprojectcom', 'badasss', 'britney', 'spear', 'butbutbut', '636', 'isaw', 'cord', 'tangl', 'giuliani', 'fullblown', 'hiro', 'innuendo', 'indi', 'hometown', 'aug', 'memeextremist', 'oni', 'fdni', 'pre', 'specif', '1916', 'words2success', 'hardik', 'climb', 'tremend', 'grupi', 'gomiss', 'rnb', 'wellwish', 'distant', 'proedit', 'tuspir', 'aspir', 'tm', 'greatpic', 'mou', 'jazz', 'visitor', 'ralph', 'honestli', 'membership', 'invas', 'tshirt', '90sgeller', 'viaggag', 'menefulcom', '347', 'lact', 'wallpap', 'injustic', 'preefer', 'molest', 'meat', 'savageebruh', 'edward', 'subscrib', 'mangapanda', 'ius', 'nimoy', 'dna', 'heil', '1943', 'queue', 'floodwat', 'sall', 'cutest', 'goodby', 'crazier', 'curs', 'ars', 'arroyo', 'gustin', 'strap', 'igthefunnyintrovert', 'blunt', 'risk', 'lurk', 'clock', 'bask', 'thicc', 'fallen', 'younger', 'shitpost', 'singapor', 'voiceoverfrank', 'quickmem', 'entitl', 'tunderstand', 'infect', 'std', '6am', 'consider', 'settl', 'weknow', 'eig', 'domino', 'instagood', 'instadaili', 'frank', 'lil', 'minecraft', 'wand', 'repub', 'wan', 'main', 'fam', 'thanksgivingwithblackfamili', 'rhyme', 'file', 'disguis', 'cheerlead', 'individu', 'antifeminist', 'cena', 'creatur', 'flirt', 'dictionari', 'wildl', 'largeheart', 'ki', 'handout', 'prop', 'diseas', 'profit', 'resum', 'london', 'pursu', 'afterward', 'jokerlov', 'belikebro', 'dodg', 'melon', 'critter', 'awkard', 'expos', 'spaghetti', 'cigarett', 'amina', 'hoax', 'denial', 'fuk', 'weiner', 'mattress', 'nasa', 'wreck', 'leepacey', 'virginia', 'ballislif', 'basketbal', 'buck', 'atmomwhyar', 'theworkscouk', 'sacr', 'awesomewel', 'gifscom', 'jgeoffcomgodfath', '88', 'montana', 'joint', 'abad', 'pooh', 'farm', 'round', 'oncea', 'dumpster', 'silver', 'dari', 'bbq', 'wiam', 'supermodel', 'belli', 'justcapshunzcom', 'wit', 'shed', 'instagramoliviabosschick', 'sparkl', 'dotard', 'rainbow', 'qanon', 'repair', 'ann', 'kaplan', 'kodak', 'tx', '6043', 'spirit', 'peanut', 'vers', 'cunt', 'thigh', 'vouston', 'horror', 'neighbour', 'wee', 'freshli', 'swept', 'mauri', 'jeanluc', 'avocado', 'sceool', 'voyag', 'insur', 'rollin', '9gagmobil', 'whir', 'aalu', 'tikki', 'rahulgandhi', 'gov', 'supermarket', 'oliv', 'catbreedselector', 'intimid', 'intelligentand', 'sophist', 'boric', 'donkey', 'deathbattl', 'gaaaaaayyyi', 'imgurl', 'occup', 'jello', 'trumpmemesnet', 'fbcommentallyemancip', 'casey', 'anthoni', 'ylang', 'anagram', 'bencher', 'halo', 'chad', 'harp', 'obedi', 'kobe', 'spain', 'blueberri', 'magician', 'shutdown', 'jord', 'presenc', 'lotrhun', 'scifi', 'nickel', 'wide', 'chillin', 'der', 'countless', 'petrolhead', 'fecal', 'picnic', 'saviour', 'quackiemecom', 'reynold', 'ommichang', 'pikachu', 'diplomat', 'accordingli', 'teapainusa', 'wannab', '1050', 'merlin', 'maga', '9h', 'buti', 'bhakt', 'bjp', 'twill', 'system', 'champ', 'enorm', 'niggai', 'teanderth', 'cyberbulli', 'memecenet', 'stefn', 'americarepubl', 'hillarymememakercom', 'hardest', 'strongest', 'vodka', 'shiba', 'monitor', 'warner', 'televis', 'becausespac', '001', 'brightsidem', 'oblig', 'hector', 'orwel', 'durant', 'paragraph', 'inventor', 'techniqu', 'happier', 'hesit', 'dprk', 'thehardtimesnet', 'guitar', 'fresh', 'pure', 'dispos', 'sanchez', 'quaterback', 'museum', 'ificantfinish', '374', '433', 'oneesama', 'catcal', 'near', 'collud', 'powder', 'httpstcogmnahavso', 'harveyspect', 'ob', 'obes', 'mulder', 'mandatori', 'danker', 'yanderefam', '522', '40m', '1942b', 'reggi', 'ching', 'jar', 'turtl', 'eleph', 'killer', 'e17', 'so6', 'soap', 'bc', 'ctv', 'impeach', 'frown', 'gorilla', 'lefthous', '020', 'reunion', 'protec', 'abolish', 'lighten', 'horseback', 'combat', 'megeneratornet', 'chat', 'reicht', 'tallto', 'eight', 'darl', 'indigen', 'led', 'vehicl', 'plate', '15022019', '653', 'elector', 'hawaii', 'facebok', 'walli', 'dab', 'bodybuildinghumour', 'gainz', 'jul', 'petzer', 'willem', 'coat', 'tcc', 'tgat', 'foriegn', 'leftit', 'content', 'themat', 'arthur', 'nebom', 'jackblack', 'hoop', 'inevit', 'tendenc', 'margarita', 'felip', 'brow', 'brassod', 'ky', 'typicalterom', 'picturequtescom', 'jp', 'sach', 'dolphin', 'founder', 'appeal', '61', 'treasur', 'predat', 'exhaust', 'nugget', 'kingswood', 'takin', 'string', 'amul', 'fotocom', 'kul', 'creep', 'misfit', 'cliff', 'pronoun', 'reincarn', 'chin', '98', 'ithaca', 'tumbuto', 'morgan', 'blurt', 'intens', 'jackass', 'ketchup', 'ilovelif', 'coin', 'catnip', 'z', 'memetenleri', 'router', 'heavi', 'loudest', 'dori', 'rothschild', 'washington', 'panic', 'fenc', 'koni', 'japanes', 'knightykingston', '900', 'committe', 'tuten', '808', 'lieuten', 'leagu', '5th', 'ugg', 'barrier', 'mime', 'chamber', 'vest', 'tail', 'clip', 'steam', 'oath', 'olymp', 'elimin', 'officiali', 'rl', 'vogo', 'espn', 'imgflipco', 'cal', 'pavement', 'ayoola', '64', 'implement', 'asaway', 'ru', 'consensu', 'wwwnishantdasnet', 'subsidi', 'ramsay', 'dive', 'relationshipagr', 'bell', 'deck', 'bylif', 'desk', 'lug', '0000', 'whati', 'cap', 'bug', 'nerdi', 'norton', 'aa', 'rupe', '1000', 'ter', 'gl', 'faith', 'bribe', 'deepli', 'grobiend', 'annexur', '2045', 'gujarat', 'princess', 'cm', 'ramak', 'saboo', 'decor', 'volum', 'init', '112gloriou', 'hotlin', 'children', 'memecreatororg', 'nl', 'independ', 'stro', 'diva', 'blog', 'pav', 'vour', 'rvcjinsta', 'stan', 'vito', 'gain', 'creativ', 'faggot', 'plane', 'hypertens', 'chart', 'migrain', 'headach', 'rrvenu', 'hawaiian', 'garvey', 'librari', 'sweetheart', 'western', 'jam', 'printer', 'loldamncom', 'liz', 'quiz', '35', 'fm', 'asian', 'waterg', 'nom', 'marveltruefact', '1219', 'icanhasacheezburgercom', 'fortun', 'joel', 'wa', 'uber', '1998', 'omega', 'merit', 'fewer', 'ninja', 'birla', 'va', 'gameboy', '1496', 'wwwrvcjcom', 'gure', 'mat', 'amus', 'chao', 'classic', 'optimu', 'smh', 'plu', 'grand', 'watson', 'mama', 'bhai', 'crosbi', 'maanagaram', 'thatd', 'divers', 'eatlivercom', 'ryder', 'rosi', 'instagran', 'canyon', 'extraordinari', 'nerv', 'interlink', 'onto', 'load', 'coke', 'gapbagapcom', 'edcom', 'comix', 'franship', 'theolog', 'triniti', 'blackhumorist', 'drove', 'heartless', 'evict', 'ufa', 'cam', 'fa', 'quotesideascom', 'towel', 'lg', 'nashvil', 'badass', 'waylon', 'alongwith', 'cheeto', 'massacr', 'hassan', 'tiger', 'ungrat', 'click', 'disgust', 'mahe', 'syndrom', 'teme', 'araneaesapien', 'perform', 'regular', 'badli', 'vitaminhacom', 'funnyaf', 'tupperwar', 'socket', 'grape', 'ed', 'sheeran', 'couch', 'averi', 'monsen', 'furri', 'jori', 'pace', 'refresh', 'trialbymem', 'layout', 'stackoverflowcom', 'brag', 'sodormemez', 'garlic', 'approxim', 'crore', 'aditya', 'andatrex', 'pyramid', 'ty', 'tsoukalo', 'memecept', 'spoke', 'union', 'sri', 'ordin', 'chunk', 'combin', 'tuse', 'veryoldand', 'psychot', 'concentr', 'wilson', 'bannedclubpenguin', 'reinvent', 'warcraft', 'sgt', 'stahp', 'imgfilpcom', 'prssident', 'wind', 'vape', 'weaker', 'milkshak', 'nojusticenoprid', 'temporari', 'getnack', 'rearrang', 'orchard', 'teas', 'mastercard', 'bubl', 'aid', 'ishu', 'charger', 'wefcomicscom', 'worker', 'tradit', 'breakabl', 'frail', 'nosugar', 'falseit', 'senior', 'gondor', 'juic', 'militarybas', 'allov', 'disord', 'andit', 'ministri', 'cbscdc', 'particular', 'weekday', 'memedumpcom', 'isupp', 'lap', 'exgirlfriend', 'marsden', '1051', 'spoiltwoman', 'notto', 'liampayn', 'cooter', 'scam', 'zuckerbergt', 'chariti', 'enclos', '24pm', 'cruis', 'bebil', 'kardashian', 'urfl', 'plbiden', 'legit', 'teh', 'irrit', 'progress', '2013', 'makememeorg', 'gatsbi', 'tsoukalici', 'rough', 'gossip', 'joyreactorcom', 'crossov', 'aggressor', 'tina', 'bethtot', 'acitroen', 'ulgi', 'cong', 'probe', 'c4', 'hypothesi', 'loui', 'kv', 'outburst', 'heart100', 'ceil', 'idol', 'hemsworth', 'miley', 'whoi', 'borderlin', 'farrah', 'bheem', 'chota', 'tvquot', 'funnyvideo', 'cliqu', 'fowler', 'cabbagecatmem', 'ez', 'fwek', 'jolli', 'marco', 'antarctica', 'dwight', 'vegtabl', 'ledgeend', '839', 'kuntz', 'joshu', 'mistrust', 'attentiongovernor', 'perspect', 'kit', 'blaster', 'weheartitcomaudreyofa', 'mutual', 'benefici', 'anawkward', 'eorgiso', '1623', 'walgreen', 'shoplift', 'sketchcomedi', '941', 'practis', 'capitol', 'libertarian', 'nahari', 'youryour', 'cuddl', 'kt', 'pieceofshit', 'krang', 'barey', 'spock', 'sabbath', '505', 'stroke', 'sickbay', '592', 'cnn', 'cet', 'olenegeneratornet', 'squeez', 'spank', 'plice', 'sat', 'sapien', 'howev', 'cape', 'henc', 'raven', 'cedric', 'rancher', 'luvjjp', 'diggori', 'radiohead', 'anatom', 'mussolini', 'comedydotcom', 'democr', 'undress', 'octopu', 'foul', 'michigan', 'homo', 'vu', 'anger', 'trongportornet', 'congrat', 'quikememecom', '251', 'complianc', 'inspect', 'bulb', 'roflb01', 'moonyo', 'unifi', 'sung', 'hpotter', 'shire', 'naah', 'allen', 'spideyifi', 'winningkrusti', 'krab', 'chum', 'aml', 'lotto', 'emiss', 'ajerk', '000000006', 'bacteria', '499', 'staci', 'lisay', 'caribbean', 'pirat', 'ifidownloada', 'databas', 'kool', 'herecom', 'thata', 'acr', '99gapcom', 'memeeulcom', 'deaf', 'circl', 'suprisedhumansquealingmp3', 'fitsi', 'scientif', 'method', 'intervent', 'institution', 'httpstcohtqyblerh', 'recognis', 'mgmhd', 'audio', 'flirtati', 'segreg', 'aladdin', 'allahdin', '1224', 'readyforhillari', 'beep', 'toshiadventur', 'devast', 'direwolf', 'banner', 'dietician', 'suprem', 'candid', 'bahama', 'bid', 'memesofgameofthron', 'humanfor', 'informationsearch', 'onmost', 'officialgerald', 'sofar', 'httpstcohfg6v9is9k', 'httpstconpxbur8rs3', 'uno', 'nerddad', 'hilariousdepot', 'uninterrupt', 'cole', 'sprous', 'bwant', 'cket', '2thata', 'dam', '1onli', 'cookieokk', 'supersuit', 'bword', 'imugli', 'selectorcom', 'greenor', 'pleasedo', 'beandidit', 'lea', 'dekh', 'amazingcomedian', 'sotal', 'reasonjonsnow', 'wearetheworst', 'spay', 'bigbangtheori', 'millionairesthingscom', 'out', '321dont', 'timmi', 'skrillion', 'sum', 'possibley', '2001', 'virgin', 'but813', 'shortcircuit', 'gota', 'ommy007', 'rr', 'prisuxocom', 'sp', 'rec', 'feast', 'pmenu', 'unto', 'sever', 'dogsworst', 'extens', 'househ', 'bamboo', 'panda', '1that', 'leaker', 'inventori', 'pedo', 'hawkev', 'appealsu', 'sneaker', 'tryin', 'hatd', 'hulton', 'sweatpant', 'archivgetti', '994', 'fairforcemem', 'recip', 'bulanov', 'dermi', 'testimoni', 'stinker', 'beckham', 'faucratch', 'own', 'kf', 'hounl', 'lavend', 'slayer', 'barnard', 'boer', 'recon', 'ernst', 'roet', '026', 'pussi', 'prior', '1259', 'mighti', 'mem', 'dislik', 'pork', 'porkupin', 'babey', 'ineken', 'belieb', 'heineken', 'dorit', 'selena', 'shouldntv', 'midrol', 'compil', 'baad', 'stream', 'wil', 'runtim', 'highli', 'lamp', 'lain', 'victoria', 'tortilla', 'toupe', 'turf', 'cradl', 'treetop', 'blain', 'zuckerburg', 'shuesick', 'no2', 'johar', 'patrol', 'karan', 'writer', 'shepherd', 'unarm', 'lab', 'augest', 'shunter', 'matti', 'blink', 'imeedi', 'agon', 'nutterstock', 'easter', '235', 'nobel', '350k', 'pledg', 'jagdish', 'waythat', 'ittookyou15', 'toget', 'gmail', 'gmailchucknorriscom', 'homophob', 'gapbagepnet', 'mission', 'psg', 'robinscherbatski', 'matrixnet', 'dekhbha', 'emma', 'meangirlsofpanemtumblrcom', 'zombieapocalips', 'v10', 'imflipcom', 'brew', 'coffeemem', 'guylegeneratornet', 'everyway', 'beta', 'display', 'consult', 'dankmem', 'slack', 'popcountri', 'orneri', 'facebookcomwehatepopcountri', 'edc', 'badasseri', 'peekaboo', 'lilyaldrin', 'instacool', 'kevin', 'hart', 'menegerleraturnet', 'thatmakeamemeorg', 'himymquot', 'detent', 'heisaresult', 'fourteen', 'haventt', 'memocioneratornet', 'gettyimag', 'andersen', 'sh10067935t003', 'bachmann', 'virtual', 'unbreak', 'momestachecom', 'vacuum', 'italian', 'ege', 'holdingoscar', 'chromosom', 'gottyrion', 'storag', 'coldest', 'pau', 'ali', 'themegeneratornet', 'weigh', 'wyour', 'guin', 'fbbunkistan', 'loos', 'therundova', 'consid', 'uput', 'pentagon', 'wpa', 'dreamer', 'vicki', 'needi', 'receiv', 'pfunnyintrovert', 'thebraintickl', 'mern', 'gourmet', '111118', 'forgav', 'therick', 'cheep', 'prefegt', 'telephon', 'rick', 'melook', 'squealer', 'humanbeinglslleg', 'goodgodabov', 'chaumont', 'igi', 'juggernaut', 'fatheiss', 'daylight', 'mbule', 'wboni', 'wew', 'pubic', 'fbcom', 'temptat', 'halfl', 'mjolnir', '457', 'iso', 'giusepp', 'taw', 'superheroin', 'pyi', 'medicin', 'nay', 'rajkanwar', 'chopra', 'fbcomgameoflaugh', 'zip', 'oldboy', 'susten', 'teat', 'yuno', 'awwyouguy', 'mademeink', 'unusu', 'uneasi', 'saltier', 'marilyn', 'monro', 'bene', 'ishal', 'rubbish', 'selenay', 'beneb', 'pak', 'sahara', 'eddi', 'aaaaaaaaaaand', 'bale', 'missl', 'mykrain', 'memegenerator119', 'uari', 'shoutout', 'qb', 'sportsmemescom', 'applecom', 'dalit', '85', 'hammer', 'lighthous', 'brther', 'lobster', 'thenerdyunivers', 'enfant', 'jare', 'leto', 'playdat', 'crib', 'viciousveganvixen', 'kuwait', 'yemento', 'iraq', 'oman', 'channek', 'cheek', 'israel', 'fantasylland', 'workingwhat', 'instanc', 'alik', 'lazi', '60l', 'v12', 'blackmalcom', 'luther', 'shitheadstev', 'hooker', 'asplor', 'kitteh', 'garden', 'eatin', 'novic', 'leeeee', 'mows', 'bourbon', 'captno', 'wheeli', 'alllllrighti', 'professork', 'despicablememenionsorg', 'friendofba', '11m', 'easili', 'howd', 'diaper', 'horcrux', 'deplor', 'blackmarcu', 'extrovert', 'skit', 'noonish', 'shuffl', 'mode', 'arrang', 'chompfath', 'parton', 'dolli', 'jussi', 'monocl', 'samsung', 'thefreshpickl', 'experiment', 'geta', 'thermomet', 'butch', 'rder', 'funnykim', 'aerospac', 'astrophysicist', 'theoret', 'psat', 'reliz', 'interpret', '610pm', 'apprais', 'makercom', 'cerer', 'coolest', 'remeb', 'somth', 'unprepar', 'frustrat', 'vegeta', 'goku', '16400', 'mcdouchefac', 'toa', 'gorgeou', 'qiana', 'hugh', 'jackman', 'cameo', 'vapey', 'deduct', 'dcfact', 'ghz', 'quadcor', 'i7', 'cantt', 'ripof', 'visionari', 'bogg', 'fbcombestofgameofthron', 'epidem', 'reckless', 'arrog', 'scandalpron', 'shitbird', 'shamelessli', 'gucci', 'revolv', 'funnyb', '9gagcomgag5446841', 'wwwmainwashedcom', 'sayinglmagescom', 'pencil', 'punditkitchencom', 'flori', 'normand', 'poutin', 'afternoon', 'jaguar', 'httptcoqfqbqzywcx', 'throwback', 'portent', 'om', 'meeeeee', '15000', 'miner', 'poptropica', 'poptropican', 'pixel', 'bigpimpin916ifunnymobi', 'reallif', 'counterpart', 'fiction', 'primari', '1400', 'fuckin', 'pensiv', 'pip', 'drake', 'sarco', 'mund', 'tauriel', 'scarlett', 'pj', 'viacomicbookmemeig', 'babyfat', 'limp', 'brick', 'throwa', 'wheni', 'cr7', '323', 'degen', 'impolit', 'wwwhmsfridaycom', 'c25ule', 'arsen', 'rmeme', 'screensav', 'buckaroo', 'ashford', 'poster', 'resort', 'cane', 'fatter', 'forehead', 'scorses', 'err', 'darksid', 'overnight', 'stung', 'markipliermem', 'kadiadraw', 'requr', 'thang', 'playerssay', 'lessgovmorefuncom', 'fakenew', 'gono', 'passang', 'behindscenesp', 'stat', 'httpstcornxvyyht44', 's508p', 'wwwcoopwhooocom', 'dicki', 'dave', 'rogain', 'task', 'activist', 'feminst', 'bravo', 'citru', 'evolv', 'creami', 'vanilla', 'introvert', 'rel', 'dummi', 'homer', 'janeway', 'kingdom', 'apartheid', 'islam', 'burqua', 'dadwhen', 'overtomyspac', 'yah000', 'gee', 'tyson', 'byte', 'perhap', 'manvi', 'translat', 'refrenc', 'detector', '685', 'do', 'influx', 'madagascar', 'infiltra', 'merg', 'prequel', 'firewalk', 'jolen', 'vader', 'n000000000000', 'ambassador', 'ancestr', 'chevi', 'impala', 'nerdycomicmem', 'eme', 'wwwlolsclubcom', 'ljust', 'peed', 'nativ', 'adderal', 'xxi', 'fonow', 'yogifanclub', 'kamal', 'trump30', '1229', 'jun', 'ofici', 'thread', 'domi', 'incorrect', 'nickelodeon', '7227', 'gstring', 'femaleship', 'donkthink', 'cave', 'yourquotein', 'sarin', 'procootballmochcom', 'micheal', 'meineyeneratornet', 'fustercluckusa', '1922', 'brithday', 'moist', 'outlift', 'digniti', 'minim', 'eeve', 'adimin', 'bibi', 'tomboyish', 'negoti', 'wristband', 'you3', 'motherinlaw', 'the87juju', 'ironi', 'seldom', 'absent', 'lovecraft', 'afford', 'peep', 'toad', 'umwhatcha', 'dm', 'footi', 'buffon', 'madrid', 'bari', 'quotesbookcom', 'viserion', 'chain', '3145', 'delusion', '16thebigbang', 'salk31', '2705', 'tbbt', 'thebigbangtheori', 'antisemit', 'spokesman', 'nra', 'pu', 'bayern', 'appolog', 'pusysalad', 'liamdunn', 'rg', 'bea', 'equat', 'differenti', 'panel', 'ethic', 'vagabond', 'passion', 'mistakennet', 'wwwfoghatnet', 'merchcom', 'curio', 'qaeda', 'shrapnel', 'extract', 'helicopt', 'limewir', 'kazaa', 'tra', 'orlando', 'autism', 'coconut', 'rhett', 'capabl', '1346', 'funnypicsonli', 'thebatbrand', '2007', 'heath', 'ledger', 'packer', 'sn', 'sedin', 'reitman', 'maintain', 'distanc', 'ascertain', 'intent', 'nevertheless', 'persist', 'nonsexist', 'hacki', '8yearold', 'cheillini', 'humoarcom', 'happend', 'mkaifista', 'packet', 'tritium', 'cctv', 'mofo', 'tt1000111', 'kuronekofag', 'jewelleri', 'eel', 'attwood', 'sari', 'bike', 'astrogeekz', 'angerey', 'reeact', 'colon', 'chemtrail', 'drsmashlov', 'grandin', 'jobless', 'opportun', 'spiritu', 'templ', 'employ', 'piggi', '10000', 'junk', 'karthikkeyi', 'raindrop', 'cspan', 'desktop', 'cig', 'wwwfacebook', 'sehri', 'bbtmemesbtstevencom', '1067', '1226', 'safelyendang', 'webcom', 'mehdi', 'dart', 'nerf', 'eeein', 'forno', 'laze', '81415', 'lexi4prez', 'encourag', 'gratitud', 'ying', 'rake', 'karmaemegeneratornet', 'isabel', 'diffus', 'peppermint', 'healthcaregov', 'caution', 'mylif', 'istil', 'misconduct', 'iwasnt', 'whaaaaaaaat', 'damien', 'grokkowski', 'hernandez', '8781', 'itun', 'miami', 'soundtrack', 'actress', 'combov', 'pokemecom', '747827', 'dodger', 'miliraru', 'furnitir', 'daphn', 'anyhow', 'igloo', 'beneath', 'hhowimetyow', 'bart', 'bedrock', 'eoit', 'gr', '925pm', 'lare', 'friendshacap', 'descend', 'wealthi', 'heep', 'teller', 'substanti', 'intim', 'pssst', 'sisiga', 'httpstcoyy9hafglw', 'littlefing', '0006', '0p', 'appoint', 'habik', '0pi', 'maxandharveyfangirl1', '9x13', 'hun', 'liver', 'spidermanson', '4g', 'baelish', 'myth', 'petyr', 'flight', 'mormont', 'uncov', 'jorah', 'shaver', 'rusk', '2014', 'chuniggu', '2nerdcom', 'kpop', 'nonkpop', 'onallkpopcommem', 'alexi', 'dlau', 'httpstcoonbj5bd7ao', 'agun', 'dather', 'thirti', '1972', 'stronger', '2004', '94', 'trialbi', 'mgflipcom', 'at3am', 'cattimecom', 'stretch', 'minion2minioncom', 'kedavra', 'riddl', '19051943', 'divid', 'fullfil', 'backbench', 'thinkt', 'assign', '3621', 'merescom', 'memor', 'httpwwwmemescomimg919', '234', 'realest', 'maraud', 'epal', 'martincom', 'martinsrooom', 'dilip', 'rayamajhi', 'ofoscar', 'freedom', '031', 'claw', 'jhing', 'worm', 'missandei', 'clumsi', '922', 'outstand', 'like1', 'twoway', 'intersect', 'vindaloo', 'curri', '1041', 'vagu', 'seeker', 'inoi', 'geico', 'ghe', 'acadami', 'lutus', 'splorer', 'manoi', 'fagborough', 'medit', 'realeas', 'dust', 'dom', 'squirter', 'butthi', 'riddicul', 'phenomenon', 'occur', 'hief', 'sausa', 'sportsmemesnet', 'iop', 'wwwrvcicom', 'modiji', 'ahhhh', 'telegram', 'ican', 'sight', '15m', 'weekendathillari', 'clintoncollaps', 'shirtless', 'chillblinton', 'arab', 'dryer', 'swipe', 'brothel', 'ferment', 'crab', 'smurf', 'cesar', 'romero', 'alter', 'factsofcom', 'sixyearold', 'aon', 'bukowski', 'mcavoy', 'overshadow', 'ligcom', 'perceiv', 'dcbe', 'puk', 'toothbat', '800', 'transfus', '450', 'cifaldi', 'frankcifaldi', 'ahh', 'yaer', 'memescon', 'earlier', 'wenignogscom', 'veronica', 'ishida', 'atarcom', 'ahi', 'deeper', 'legalizedpot', 'bowlghetto', 'chickenshit', 'backstab', 'cryptocurr', 'blous', 'veg', 'seller', 'voodoo', 'doll', 'unpc', '062', 'mompick', 'babyno', 'momwhat', 'babywanna', 'lolhappenscom', 'xbox', 'tijuana', 'errrbodi', 'mometenl', 'checkpoint', 'brock', 'looknutella', 'oc', 'comprimis', 'imagflipcom', 'ib', 'reupload', 'rur', 'consuela', 'bananahammock', 'winni', '761', 'sca', 'tnpw', 'bydjasso', 'fbcommem', 'shoulder', 'occasion', 'frontal', '187', 'bakagaijin', 'occorr', 'landlin', 'funnycatmemescom', 'httpgrumpycatmemecom', 'aout', 'dye', 'vibrant', 'reach', 'orealdonald', 'isaac', 'airbag', '411', 'oct', '798k', '22k', 'agreement', 'lade', 'moonlight', 'terrifi', 'gtfo', 'fuuuu', 'gulp', 'trombon', 'rusti', 'persu', 'biolog', 'procrastin', 'bitchhh', 'havea', 'maltes', '662k', 'cooli', 'bangkok', '2m', 'spacebal', 'austinpow', 'vlog', 'wot', 'protector', 'moccow', 'gotten', 'lan', 'darkhelmet', 'port', 'fujitsu', '5000', 'gino', 'sr', 'lvce', 'yoga', 'danceri', 'haz', 'cp0356137908', 'tamizhisai', 'prestigi', 'recist', 'cyril', 'giraud', 'firefox', 'encount', 'smarter', 'm58347624', 'dolfa', 'futuro', 'pote', 'futwa', '1208', '138k', 'nt', 'memegenratornet', 'jewelri', 'nd', 'chan', 'arb', 'frontcam', 'industri', 'deadlift', 'oper', 'wwwlefunnycom', 'youbarri', 'sadli', 'dancinghav', 'alrighta', 'rebuild', 'scottyblackcomb', 'memesfor', 'memer', 'gymmemesandmotiv', 'yea', 'bodybuild', 'crossfit', 'powerlift', 'rnew', 'zipper', 'gymmem', 'gymhumor', 'gymmotiv', 'legday', 'girlswholift', 'fitchick', 'fitspo', 'bossgirl', 'punk', 'wooki', 'bunker', 'explicitli', 'almighti', 'michal', 'fu', 'properli', 'watersto', 'ston', 'waterston', 'whore', 'frassati', 'sene', 'bitti', 'thrift', 'pier', 'ramadan', 'bitl', 'og', 'lill', 'bok', 'jerk', 'pinki', 'corbi', 'banan', 'genderqu', 'diver', 'pedophil', 'tran', 'historian', 'firat', 'ace', 'z28', 'fletdissemgoguy', 'vall', 'tb', 'banki', 'duke', 'vogu', 'fbcomlegendaryfact', 'ghandi', 'adress', '105', 'oxymoron', 'statement', 'tughlak', 'lane', 'delhi', 'challang', 'sgotbeaten', 'squid', 'marriag', 'pluck', 'theofficeismscom', 'lincoln', 'bharat', 'abraham', 'ratna', 'adhm', 'mitroon', 'wmyb', 'reflect', 'comicbook', 'bern', 'chuckempire40kcom', 'desert', 'heterosexu', 'ingmar', 'bergman', '2g', 'coalgat', '3g', 'pepsod', 'aaaaaaaaa', 'idgaf', 'attitud', 'pasta', 'primavera', 'buckley', 'lizbuckley', 'classi', 'lgbtqiawtf', 'seventh', 'grandmoth', 'figurin', 'indy100com', 'agend', 'queer', 'womanbornwomanrad', 'feministfemal', 'separatistgend', '543', 'tcl', 'episkeyfirewhiskeytumblrcom', '28th', 'dracosredempt', 'sportsmem', 'iye210', 'iig', 'notimeforbullshit', 'assasin', 'twister', 'iget', 'cib', 'conspiraci', 'theorist', 'quantum', 'woahitsjuanitotumblrcom', 'bankolar', 'gimm', 'booz', 'facebookcomkaatupoochi007', 'teeni', 'dio', 'ked', 'temper', 'enchan', 'wwwfacebookcomseveruslilyalway', 'pawprint', 'danish', 'thenwowillfailcom', 'roof', 'inki', 'manuscript', 'prglectcom', 'du', 'jimmi', 'sia', 'ijmitecool', 'carfeel', 'wwwdesmotivaciones', 'pregam', 'chant', 'tequu', 'rulin', 'internat', 'hatin', 'cholu', 'overprotect', 'nesnaylon', 'fishnap', 'autograph', 'nitant', 'wiser', 'sanoico', 'ou', 'shatter', 'delus', 'algorithm', 'pablo', 'memeliciouss', 'corad', 'ati', 'crest', 'brushio', 'dentum', 'stereo', 'nintendo', 'boytm', 'bone', 'instalar', 'httpbitlyagbcjz', 'olama', 'incid', 'defi', 'obiwan', 'rijok', 'ifactsdaili', 'co', 'fk', 'prairi', 'prolong', 'herrera97', 'herrera', 'regrow', 'r1', 'internatio', 'sovietgulag', 'internatt', 'ww2', 'idis', 'hey0000', 'dino', 'elementari', 'peel', 'ct', 'enthusiast', 'honda', 'diego', 'sation', 'ispost', 'tummi', 'unimport', 'tavoid', 'inequ', 'fspoiltmodernwoman', 'litter', 'davi', 'sb', 'madd', 'maxx', 'graphix', 'onen', 'speechabout', 'sba4l', 'podcast', '934', 'humorpixcom', 'appleev', 'faceid', 'marvelo', 'spage', 'rider', 'reilli', 'bic', 'sheldonstyl', 'guild', 'cbscom', 'mbean', 'jojo', 'drdavidduk', 'visser', 'publx', 'plal', 'grater', 'papamoist', 'wreckag', 'frack', 'cowbelli', 'hairspray', 'frackfeedcom', '495h', 'spack', 'burlap', 'glorigo', 'ina12', 'quicksav', 'francesca', 'edn', 'bassnecto', 'ing', 'nutshel', 'freezer', 'mang', 'abras', 'toll', 'kat', 'angu', 'katangu', '354', '153k', 'memat', 'momegeneratornet', 'onekoreanboimuhnamegeoff', 'sweep', 'theshin', 'xrate', 'solbecam', 'httpdudelolcomp49312', 'dudelolcom', '65', 'heterisexu', '224', 'ptotest', 'cisgend', 'anglo', 'saxon', '32k', 'demis', 'snaughflatul', 'lm', '50k', 'offso', 'ifyou', 'webat', 'popcountrycom', '623', 'codi', 'jinksyet', 'birmingham', 'radic', '1912', 'pintexxz', 'improvis', 'kieran', 'knowi', 'arra', 'nerdnat', 'fotur', 'rumo', 'ono', 'arsehol', 'dow', 'zuckerphobia', 'struga', 'tdont', 'alam', 'httpstcofosho9w9ko', 'tavi', 'bloggend', 'bewegen', 'bloggendbewegen', 'jet', 'sheep', 'misus', 'weatherman', 'dogandthimblecom', 'jen', 'spotifi', 'olepli', 'wateri', 'notif', 'unseen', '442602', 'purrrtend', 'gamefac', 'carburet', 'catlov', 'symptom', 'bahram', 'persianthotz', 'surreal', 'alat', 'unelect', 'memetucnet', 'lorraine40t', 'ccc', '42602', 'lorrain', 'hght', '20e', '02494', 'forefer', 'intha', 'reen', 'rs500', 'sua', 'default', 'textur', 'elf', 'dwarf', 'quich', 'memecen', 'barf', 'fame', 'smiley', 'cornel', 'coon', 'uncomfort', 'canuck', 'freejolesynopalescom', 'strippin', 'crapper', 'anti01', 'mutant101', 'goldilock', 'chronolog', 'thorn', 'zucc', 'sam', 'incorrectli', 'legaci', 'morri', 'you15', 'millionar', '12yo', 'oth', 'd750', 'nop', 'd850', 'duncan', 'mueller', 'juici', 'unfaith', 'dalway', 'dah', 'efron', 'idrunk', 'aound', 'pug', 'snailcat', 'milli', 'uncanni', 'essay', 'ese', 'cherri', 'invalid', 'rahui', 'tutori', 'bucketcom', 'howbow', 'zac', 'officialtrol', 'pickachu', 'ubugga47', 'dravid', 'hypocrisi', 'disineform', 'fanfic', 'apologist', 'memegenetorcom', 'arhlistlelleensecom', 'oshhard', 'huk', 'edison', 'wwwcettechnologycommem', 'mirat', 'imbecil', 'imgurpheelyk', 'igiet', 'forbidden', 'forest', 'arniegityergunoakley', 'assur', 'west001', 'nolapoog', 'tablet', '33000', 'crabbi', 'pob', 'cinderellathem', 'fn', 'techsolmarketingcom', 'omegl', 'hormon', '11out', 'youngwhit', '20122015', '918', 'magnis', 'cvv', 'signatur', '59', 'marisa', 'robertson', 'holyy', '139', 'mistaken', 'nie', 'jokescom', 'koolaid', 'clever', 'mortal', 'labour', 'tonsofthankscommem', 'malda', 'warnakulasuriya', 'patabendig', 'ushanta', 'chaminda', 'pathankot', 'srilanka', 'spark', 'funnypictur', 'lotteri', 'biggu', 'dicku', '751', '11930', 'lotrth', 'aillion', 'plenti', 'onboard', 'trampolin', 'boote', 'punquotescom', 'unknowingli', 'superlotto', 'anarcho', 'modif', 'capn', 'huko', 'vaibhav', 'lamevaibhav', 'yanni', 'laurel', 'moviepoet', 'httpstcojnqmeo1nep', 'yetb', 'zarri', 'closeim', 'theright', 'alwaysright', 'ther98', 'communist', 'crazyhyenacom', 'baker', 'finnatlipcom', 'njm', 'cinderella', 'lsd', 'meth', 'tweegram', 'photooftheday', 'wacki', 'witti', 'instahappi', 'instafun', 'appu', 'grycom', 'cia', 'toyota', 'lotwwingk', 'kiddi', 'reus', 'unclemem', 'sotruefacts1731', 'sotruefactscom', 'curencecom', 'chuckl', 'heez', 'nitish', 'lalu', 'wyoin', 'gie', 'officeof', 'hukkad', 'dbhukkad', 'insta', 'fbbhukkad', 'jewpit', 'oppressor', 'npc', 'nstructo', 'justgirli', 'memeshilari', 'proport', 'memecentercomantimanele104', 'begun', 'candler', 'e3p', 'llamo', 'furmess', 'mania', 'morningtumblrcom', 'sonni', 'hgcap', 'devot', 'carinsllov', 'wifesh', 'discko', 'amber', 'activ', 'tribut', 'freedomto', 'horn', 'reign', 'tudor', 'wwwshaaarkcom', 'avorit', '10com', '420smokersclub', 'recent', 'sho', 'dro', 'pi', 'goat', 'ilipcom', 'img', 'expel', 'rite', 'crispi', 'facebookcomgotmem', 'jonah', 'ansen', 'ishar', 'util', 'patio', '38', 'tereyeneratornet', 'imglolscom', 'thegainz', 'essentialoilsstylecom', 'turnt', 'omelett', 'itsdxvid', 'hound', 'ihos834', 'regener', 'quickmemescom', 'tripodrick', 'facebookcom', 'polmcal', 'conewild', 'transfer', 'arhtist', 'licensecom', 'podrick', 'slobe', 'globe', 'lalala', 'rust', 'besg', 'terrif', 'tge', 'reptilian', 'australia', 'caucasian', 'rambuncti', 'nicknam', 'mural', 'foretold', 'controversi', 'cornerston', 'palin', 'seizur', 'newyork', 'ign', 'plebian', 'belt', 'obstruct', 'penitentiari', 'lasagna', 'redditcom', 'snitch', 'quidditch', 'trashmamm', 'be', 'aliahgey', 'imit', 'oldascreatur', '1946', 'dilig', 'tamilnadu', 'itchi', 'smelli', 'blowup', 'evanofth', 'slotherin', 'rpic', 'mugglenet', 'boti', 'backfir', 'tvseri', 'luke', 'press', 'jone', 'memegeneratorco', 'wherev', 'artifact', 'greater', 'lt', 'diss', 'mckayla', 'cosbi', 'wiz', 'dissatisfi', 'arkham', 'whent', 'misunderstood', 'lebron', 'maska', 'rudefunnycom', 'trummemesnet', 'extend', 'mybestiesay', 'masipop', '1113', '111912', 'groupchat', 'zi', 'riden', 'zie', 'unawar', 'worldsuccess', 'kiddo', 'cannon', 'ver', 'liammc01', 'politicstheonioncom', 'transwomen', 'femaleonli', 'vlad', 'gne', 'killl', 'minimum', 'rotten', 'magnet', '1d', 'monopol', 'gentl', 'opo', 'tator', 'yukon', '157', 'liaamburn', 'hasslehoff', 'hoff', 'hassl', '06032018', 'reed', '721', 'stunt', 'wolff', 'dontown', 'quinnandnoah', 'lemm', 'urtel', 'reaper', 'courag', 'lambert', 'rlotrmem', 'richer', 'maximum', 'macchio', 'consequ', 'srv', 'erik', 'lensher', 'film2011', 'guldmentcom', 'documentari', 'amberdiscko', 'badluck', 'gamenform', 'mileston', 'comey', 'catti', 'fighter', 'jersey', 'correctli', 'fluent', 'obviou', 'hellaninja', 'baba', 'indiatoday', 'khaatestrophi', 'smarta', 'meneith', 'sarahmcgbeauti', 'bluebonnet', 'pitt', 'shadi', 'wilcox', '714', 'ducki', '26', '121', '385', '184', 'oooh', 'ezer', 'tve', 'darkknight', 'miranda', 'mietz', 'cumsho', 'behavior', 'armastrangelo', 'mastrangelo', 'alana', 'igbts7weirdo', 'attract', 'klein', '008', 'tootsi', 'turdbecaus', 'punkt', 'seashel', '729', '730', 'fr', 'neutralisierung', '108', 'summit', 'cumfrag', 'oneonon', 'vfox', 'una', 'coatt', 'quit3', 'tnbfanboyl', 'timer', 'sparifank', 'malitost', 'hobb', '611', 'haeufi', 'diamin', 'meeelion', 'ocb', 'warhead', 'pod', '865', 'actuallyy', 'korean', 'puusliwodcom', 'zabava', 'stripper', 'hen', 'liven', 'ro', 'inflat', 'nana', '921', 'dehydr', 'imagetweetedbydesusnic', 'gohen', 'despocablemiminionsorg', 'tuck', 'bacaus', 'anex', 'allamerican', 'istay', 'jonni', 'quickl', 'ak47', 'mit', 'feind', 'ein', 'twant', 'crunch', 'auerhalb', 'intersection', 'lang', 'gathshakira', 'rong', 'adaw', 'superlik', 'jizz', 'nicer', 'jonn', 'emporid', 'shestil', 'agenc', 'daddydom', 'kinksham', 'sadomasoch', 'urc', 'hayrrid', 'buribd', 'wakel', 'lifei', 'poul', 'por', 'rhubarb', 'xipolita', 'sleepov', 'beyond', 'revolutionari', 'harlem', 'deceit', 'ade', 'righteou', '81', '824', 'ck', 'lck', '642', 'ggg', '501', 'realist', 'tnb', 'xxobstsaladxx', 'silk', '09', 'van0mtv', 'novolin', 'frighteou', 'speaker', 'payne', 'zyzz', 'kuznez0505', 'yobstsaladxx', 'obtain', 'zadd', 'notmypitu', 'tnbfanboy', 'megadickspermshoot', 'preach', 'tauti', 'submiss', 'fakefeminist', 'fakeleft', 'bondag', 'tingl', 'drivergapbagapcom', 'blatantli', 'evid', 'roger', 'mornin', 'oftwant', 'pmislwebcom', '077', 'falcon', 'imperson', 'thrown', 'ceremoni', 'obam', 'moron', 'an25', 'ihasahotdogcom', 'gayboy', 'nfc', 'damniti', 'kraft', 'receipt', 'submit', 'sitter', 'villag', 'memeworldyoutub', 'gayyyyyyyyyi', 'pow', 'stab', 'strangl', 'prochoic', 'twin', 'asthma', 'gta', 'prefect', 'mutha', 'flee', 'wng', 'lolsnapscom', '1911', 'alan', 'dome5', 'belowstop', 'mahom', 'madican', 'portray', 'cid', 'wwwrvcjin', 'pub', 'reptil', 'dlc', 'info', 'pair', 'fomgta', 'deliveri', 'exquisit', 'canic', 'abo', 'paynesenterpris', 'doughnut', 'ait', 'tricar', 'calcul', 'dbz', 'mychubbi', '1joy', 'elba', 'gri', 'reput', '3some', 'lbyl', 'gbbo', 'relief', '6shock', '5despair', 'unattract', 'wank', 'bugger', '4doubt', '3cheek', '2sass', 'idri', 'headshot', 'iaoh', 'aloneand', 'instructor', 'dudewhatwhat', 'antakshari', 'bieber', 'whiten', 'livemamanecom', 'knight', 'funnycatmem', 'mahajan', 'freakingnewscom', 'ifunyco', 'sumitra', 'dailymem', 'medic', 'acttv', 'anniversari', 'zackbornstein', 'bomstein', 'scrap', 'zach', 'malia', 'madlipzcom', 'iwillfindy', 'liamneeson', 'actti', 'pizzahut', 'papajohn', 'pizzaexpress', 'shuttersek', 'pantsleg', 'instamem', 'arn', 'noi', 'inde', 'wwii', 'wikileak', 'fountain', 'freeman', '9gagcomnarki', 'fog', 'hcom', 'remixesdo', 'maggi', 'grace', 'importantli', 'radcliff', 'daniel', 'myrtl', 'headlin', 'whatcha', 'naze', 'http', 'attac', 'fcking', 'snac', '36dec', 'shutup', 'hufflepuff', 'cigarsandseastoriescom', 'semper', 'fidevil82', 'imgfliocom', 'pmslwobcom', 'andh', 'ambros', 'asoiafmem', 'cheatin', 'naaaaawt', 'lastnight', 'asgard', 'seor', 'm7', 'bmw', 'whoop', 'obamacar', 'obamamem', 'btechb', 'flahertyke', 'makeamemesco', 'neckbeard', 'sjw', 'failur', 'jonathan', 'kasdan', 'danklaid', 'ppcom', 'wth', 'updot', 'farblo', 'kyle', 'jcole', 'keeli', 'flaherti', 'avert', 'mematicn', 'wshh', '3d', 'protein', 'besttiiieeeee', 'benadet', 'tvtimecom', 'darwin', 'nationofditkovich', 'facebookcomth', 'fucker', '42', 'wendel', 'airlin', 'qrecom', 'story', 'runtofthewebcom', 'thirdworld', 'httpstcoemxbnhcfrv', 'rohit', 'shetti', 'keeper', 'alannabennett', 'youtubewoodsi', 'tomfooleri', 'zenitu', 'inspiringmarv', 'outlawbbyy', '13th', 'persecut', '245', 'seanseaevan', 'evan', 'taj', 'mahal', 'until', 'abhishek', 'chack', 'chili', 'selfharm', 'pikirk', 'relev', 'intric', 'abouta', 'aasldfliksdfjalsdfki', 'cycl', 'everythingiask', 'tpot', 'nord', 'modumpcom', 'premium', 'mosquito', 'swat', 'fatal', 'hisenemi', 'adrado', 'appd', 'anna', 'agostini', 'elephants', 'chubbi', 'york', 'histor', 'handshak', 'ju', 'debel', 'teedi', 'ite', '55100720', '31hna10', 'scan', 'rehears', 'crushi', 'zulu', 'ownersexpens', 'unauthor', 'handicap', 'official1dfact', 'slit', '420hitler', 'gillett', 'centrlprk', 'friendsfeedhq', '59m', 'joy', 'meeractspiss', 'tart', 'meercheeredupbut', 'berri', 'ug', 'powerad', 'spit', 'carshar', 'wrydirectiontumblrcom', 'roflraz21com', 'vaticani', 'antisoci', 'smooth', 'undon', 'eli', 'cosplay', 'quirki', '10ut', 'justa', 'ordinari', 'premis', 'faaaaaaaaaaaaaaaaaaa', 'tarneeb', 'montserrat', 'squar', 'cesped', 'neighborhood', 'weir', 'powerbar', 'anton', 'putterstock', 'sreter', 'erstsck', 'imageidss43d', 'lewi', 'shart', 'ohhh', 'ycom', 'whysoseri', 'rk', 'andask', 'festasnet', '72', 'burnt', 'zee', 'fuel', 'eh', 'imgripcom', 'bebabaund', 'ani', '2030', 'pickl', 'speal', 'boycott', 'sendgrid', 'greatsuccess', 'manetenl', 'wahhhhh', 'polar', 'struck', 'friendstvscen', 'ego', 'wlwa', 'mlm', 'aladi', '211', 'gigant', 'barrack', 'veryoddfellow', 'cyber', 'youtubecomthecrazi', 'inecrozygordo', 'doesntbulli', 'memecentercomfactor', 'gotluckythi', 'ao', 'masturb', '01122013', '30112013', 'soo', 'bingcom', 'oconn', '24112013', 'asid', 'griffin', 'theater', 'chloe', 'chaplain', '0813', 'daugter', 'sayzz', 'aj', 'gshe', 'keayallvil', 'petridish', 'headlight', 'banau', 'kya', 'internalis', '5662', '4978', 'khaan', 'backpack', 'goofi', 'wod', 'bran', 'acknowledg', 'chickfila', 'matern', 'niether', 'jgerbomb', 'joesit', 'ichigo', 'becomea', 'memetenl', 'learningtornet', 'flaw', 'xerox', 'puresweat', 'fairli', 'instagramth', 'ffilthybil', 'icreatorappcom', 'scottpilgrimm', 'bpm', 'beiber', 'dafuq', 'rp', 'california', 'eshoo', 'arelazi', 'armourless', 'affection', 'fertil', 'temp', 'karanthakkar', '41', 'carl', 'veget', 'lifequickmemecom', 'molli', 'yuuup', '12000', 'lookbobi', 'crown', 'cdw', 'hent', 'unknownpunst', 'fg', 'punster', 'unknown', 'ici', 'sixth', 'griev', 'scatteredquotescom', 'cellar', 'alleg', 'tolcom', 'structur', 'awhil', 'imgfilipcom', 'increas', 'mini', 'donkeykongo', 'mra', 'lifejacket', 'tonli', 'bigbangtheoryupd', 'merri', 'ic', 'ambiti', 'brianlynch', 'elmo', 'loudli', 'lynch', 'aru', 'ibirthdayco', 'sohalikut', 'lightyear', 'avatar', 'thebuttoncom', 'youpress', 'dekhbal', 'ginsburg', 'dekhbhaifor', 'asa', 'plain', 'bader', 'ruth', 'niallhoran', 'redskul', 'togetintoimpact', 'inaon', 'resourc', 'vbuck', 'gayyyi', 'onedirect', 'harrystyl', 'outta', 'louistomlinson', 'zaynmalik', 'chief', 'wiretapp', 'larrystylinson', 'troyesivan', 'viewiit', 'troy', 'spacex', 'bitlykaliforniadream', 'teletubbi', 'spam', 'rcom', 'ta', 'tcanhasoheezburg', 'clubbin', 'rolf', 'hick', 'cuckoldri', 'memecntercom', 'mrmemelcom', 'jerrycat', 'snowden', 'bbc', 'vladmir', 'himai', 'kushandwizdom', '1997', 'rwholesomemem', 'httpsifttt2pnkwcg', 'turbin', 'endless', 'concept', 'funnyfrenzycom', 'antartica', 'candoi', 'emir', 're', 'carlsberg', 'clariti', 'bb', 'ssport', 'besticando', 'hsberg', 'briefli', 'conflict', 'mili', 'ste', 'vey', 'ar', 'harryslut', 'prayer', 'nojoto', 'jockey', 'gt', 'dem', 'mcconaughey', 'maker', 'naw', 'exmen', '724', 'robbysoav', 'soav', 'robbi', 'imma', 'gurrrl', 'seed', 'mohanda', 'jawaharl', 'nehru', '1947', 'facebookcomdidyouknowblog', 'colorblind', 'sugandes', 'purpl', 'fuchsia', 'fking', 'beerem', 'beei', 'docicerch', 'bethani', 'auschwitz', 'wwwprotectourelectionsorg', 'judgemnt', 'intensifi', 'intth', 'weld', 'gamedaygo', 'remu', 'diana', 'historyco', 'guiness', 'swag', 'roflrazzcom', '44000', 'happenacaa', 'cfc', 'pharma', 'aarp', 'discount', 'boomer', 'fastbal', 'kinnear', 'lupin', 'drsuess', 'irrelev', 'trw', 'spoiltmodernwaman', 'amith', 'exhaustina', 'nilanjanaghosh', 'mormoncom', 'holland', 'anal', 'tu', 'elder', '1and', 'filter', 'fca', 'redgreen', 'soni', 'joeytribbbianii', 'openi', 'puberti', 'unofficialdnc', 'optimis', 'eureka', 'kanna', 'lotu', 'fivestar', 'dvd', 'beacon', 'spoken', 'band', 'whine', 'dee', 'blurri', 'lantern', 'bajabernathi', 'pica', 'youwa', 'memeanimalscom', 'borrow', 'ostwa', 'chowalbo', 'immin', 'eater', 'nooooo', 'neverr', 'purif', 'ar15', 'convent', 'rupt', 'fuckn', 'neanea', 'askin', 'whatd', 'grayer', 'collag', 'startrekmo', 'palaeontolog', 'heright', 'deathstar', 'groot', 'electori', 'adolph', 'burnout', 'weedmemescom', 'thingi', 'oppon', 'hcrunch', 'indira', 'compass', 'sonia', 'osteen', 'tufford', 'oma', 'trolootbal', 'footballtrol', 'javi', 'martinez', 'ufford', 'mylittl', 'bronycom', '85600', 'quam', 'kateboarom', 'thrasher', 'urin', 'semi', 'syrian', 'daniebe', 'curti', 'azin', 'andil', 'kidright', 'scenesofhimym', 'httpstcokwecepesm', 'succeed', 'gifseccom', 'circumcis', 'witha', 'funkera3131', '1080', 'deadasssss', 'hierarch', 'eneratenet', 'homosexu', 'hairi', 'kidnap', 'drgraylang', 'rode', 'nomoremem', 'umgflipcom', 'titant', 'broomstick', 'hillaryand', 'debut', 'fuckpenc', 'ark', 'attir', 'noah', 'angelina', 'belikebillfootbal', 'est1892', 'soest', 'veyit', 'oy', 'blacheco', 'fabot', 'facebookcomthemlbmem', 'mysogyni', 'mai', 'sammich', 'mlb', 'daddyissu', 'entub', 'hercul', 'mulligan', 'croc', 'irmgflipcom', 'ihes', 'stee', 'httpswwwbattleforthenetcom', 'lasteri', 'naughti', 'baemillsslay', 'memecreatoreu', 'bia', 'sassi', 'ueue', 'lennon', '1930', 'nevertrump', 'proudliber', 'islamophobia', 'xenophobia', 'demeuerleidtornet', 'fartwhi', '6pm', 'flexibl', 'walmart', 'gaanothscen', '3x02', 'greuter', 'coolo', 'ghostbust', 'fact379', 'ingflipcom', 'shook', 'dhaco', 'funky', 'goddamn', 'zuckerbergex', 'cough', 'swix', 'deepthroat', 'throat', 'eulog', 'bronco', 'thanksgivin', 'pec', 'macarena', 'aboutemegeneratornet', 'defens', 'mechan', 'cristina', 'silva', 'prosper', 'tantrum', 'mommi', 'napkin', 'editori', 'evebrow', 'cope', 'parallel', 'shortman', 'whitehous', 'wierd', 'ilook', 'demodeiowa', 'filmmak', 'whoah', 'rat', 'rank', 'flesh', 'gumamacom', '55k', 'marvin', 'nacho', 'tenacho', 'subscript', 'tsunami', 'climax', 'putinorgin', 'purrrthday', 'multiplay', 'therapist', 'paus', 'brisisic', '944', 'finalist', 'macbook', 'ohmygod', 'acquir', 'overa', 'mortician', 'shoelac', 'lamin', 'selsdirect', 'bliss', '1944', 'visu', 'blo', 'coupon', 'sane', 'antonio', 'egeneratorcom', 'ttrigger', 'handbag', 'bwin', 'bikini', 'humour', 'misanthropi', 'misandri', 'lili', 'goodmorn', 'safeti', 'nolycrapb', 'niemeyerl', 'alunnet', '135', 'on', 'ui', 'oklahom', 'lihon', 'counterfeit', 'goya', '10h', 'uthecheckeredflick', 'rtodayilearn', 'facebookcomwh', 'dobald', 'mi', '222', 'mightv', 'vitalyz', 'marvelousjok', 'luciferforpresid', 'wildcard', 'corgi', 'ng', '3128245', 'p203128245', 'lucif', 'tark', 'firewhiskey', 'oblivion', '248', 'sarkar', 'addtextcom', 'gifford', 'authoritahi', 'director', 'starr', 'stacey', 'cp', 'onandonandon', 'nod', 'countercurs', 'memeconerator', 'soulmat', 'arwen', 'incomplet', '4am', 'sweater', '102114', 'kaplowitz', 'banditqueen', 'kiran', 'mario', '2025', 'fludd', 'parenthood', 'tand', 'stuffistumbleduponcom', 'repostitapp', 'gross', 'chrome', 'inthecloset', 'weekli', 'jiin', 'facebookstop', 'foolish', 'fgl', 'beaten', 'rabid', 'antitrump', 'fdielaught', 'function', '74', 'facil', 'sheepl', 'goldman', 'trillion', 'guantanamo', 'idolatri', 'strategi', 'soro', 'ndaa', 'tutern', '821', '0090', 'exsist', 'fetu', 'outer', 'roar', 'sinegeneratornet', 'jokideocom', 'seaman', '1am', 'for10', 'dang', 'supremacist', 'lean', 'decapit', 'rrate', 'uvivaanranka', 'catwoman', 'justimgflipcom', 'vishi', 'ladder', 'yeahp', 'ot', 'baemillssey', 'smexi', 'ooo', 'hesh', 'usmal', 'nosi', 'height', 'ebaumsworld', 'demograph', '1422', 'haventreceiv', 'amirightp', 'srihow', 'exit', 'drain', '247', 'heartwarm', 'quietli', 'jingl', 'hackabl', 'pardon', 'mostferv', '599', 'patirot', 'crono', 'ort', 'rount', 'alagam', 'ranger', 'tomahawk', 'tswift', 'shrimp', 'benihana', 'atlanta', '722', 'divis', 'antiobama', 'misgend', 'montoya', 'alfr', 'nkorea', 'overtim', 'fulfil', 'undertim', 'tanto', 'niek', 'prece', 'bklyn', 'memecenterin', 'outlaw', 'fad', 'mecentercom', 'siriu', 'uniti', 'uranium', 'solyndra', 'journalist', 'seiz', 'doj', 'bergdahl', 'bowi', 'bokil', 'anil', 'org', 'bengazhi', 'embarrass', 'pad', 'rainier', 'mount', 'fenway', 'clubhous', 'appreci', 'tower', 'fisag', 'spygat', 'russel', 'westbrook', 'advisor', 'dontlook', 'samurai', 'heavier', 'rivind', 'prode', 'het', 'provid', 'bw', 'rockst', 'slather', 'marbl', 'flavortown', 'adamthecr', 'p78075', 'dishwash', 'malnutrit', 'bunni', 'soichos', 'eskimo', 'cantfind', '630pm', 'ton', 'qmarkipliermem', 'fi', '2top', 'blueberrytea', 'overhear', 'rumor', 'delay', 'tornet', 'thier', 'undef', 'lsoe', 'dolez', 'quicksilv', 'groh', 'rhodey', '10blerd', 'httpabtcm1rmwzpu', 'goddam', 'increm', 'sacveng', 'nternet', 'thei', 'olaf', 'armageddon', 'xxviii', 'jehovah', 'intrins', 'wwwfacebookcomnbamem', 'rabbit', 'marshmallow', 'squash', 'vidlo', 'bicompyourdigitalformulacoach', 'httpsstevenaitchisonmykaja', 'aformula', 'environ', 'coven', 'somenin', 'focuss', 'roi', 'bold', 'joshua', 'jlewdatruth', '1250', 'likeasuit', 'piti', 'barneystinsonoff', 'posnanski', 'tonyposanski', 'swarkl', 'waiti', 'godli', 'ingest', 'fragil', 'chutzpah', 'indianexpress', 'ritual', '817am', '322b', 'roommat', 'upstair', 'commissari', 'astronaut', 'sunk', 'greyjoy', 'wealthiest', 'dumbest', 'purrfect', 'partyy', 'minionsorg', 'bonfir', 'imgiip', 'dialect', 'honor', 'meit', 'pepol', 'memebucketcom', 'girlunderstand', 'anastronaut', 'atornet', 'amon', 'yardstick', 'calla', 'cardiac', 'tpusacom', 'defin', 'milder', 'umemecom', '2016imgflipcom', 'theinnkeeperlibrarian', 'restaur', 'menu', 'proce', 'foundat', '3cheers12year', '738', 'imeur', 'puslwebcom', 'everown', 'poopoo', 'kampf', 'hairclip', 'okoksolistenlisten', 'gayer', 'aaaand', 'bawl', 'strd', 'dustor', '441', 'ouston', 'predid', 'mather', '03', 'parmesan', '2medium', 'popi', 'classism', 'familycom', 'injur', 'infront', 'root', 'emrummelovegood', 'motherhood', 'fetish', 'postfeminist', 'coffin', 'larunezoriginal', 'boom', 'nese', 'laur', 'sinfin', 'dichotomi', 'galway', 'todel', 'leert', 'omz', 'filefli', 'thevideo', 'leia', 'stevegobstumblrcom', '4000', 'there3', 'hitlerdidnothingwrong', 'theni', 'nauseatingnut', 'flush', '300am', 'deutschland', 'supers', 'recaptur', 'cmon', 'gameofmemestumblrcom', 'elsedo', 'sansa', 'wwwfacebookcomdirtyimagin', 'hsdickig', 'mcweiner', 'gq', 'nei', 'stun', 'picardthem', 'dozen', 'ina', 'clau', 'nursingc', 'smartest', 'imax', 'naot', 'jaun', 'annih', 'gbm', 'yay', '1233', 'clp', 'courtesi', 'ampa', 'academi', 'impur', 'gp', '551002', 'rout', 'crust', 'dpooli', 'pan', 'niti', 'diesel', 'fml', 'ugh', 'spurn', 'savior', 'inconvenienc', 'hath', 'moviequotemonday', 'fella', '37th', 'shrunk', '31hnv10', 'prioriti', 'benoit', 'submi', 'doo', 'vir33', 'dissapoint', 'brief', 'gotmem', '07162018', 'locht', 'slipperyfellow', 'ecce0088989', 'hagrid', 'badi', 'lehumor', 'smjbuzzcom', 'hungari', 'amazingli', 'lemonad', 'czech', 'layer', 'greec', 'eveni', 'norway', 'beant', 'krabbi', 'movement', 'snail', 'ighandosjaimelannist', 'zark', 'decrimin', 'counter', 'edg', 'egyptian', '9gagcomgag806410', 'httpbitly2kuwyaz', 'saint', 'toenail', 'httpbitly2kuwyazwar', 'packag', 'fashionat', 'thavent', 'facebookcomspoiltmodernuoma', '90007', '406f', '38653406f', '20008', 'strip', 'cubescom', 'trivialoz', 'greta', 'christina', 'heathen', 'heheh', 'commerci', 'louder', 'thedirtynerdi', 'sovereign', 'dounutti', 'rn', 'alibi', 'wapvolcom', 'robber', 'rvcu', 'hech1965', 'hes2', 'rockhopp', 'pickup', 'offlin', 'luxuri', 'disconnect', 'gerd', 'nothav', 'arcuri', 'gal', 'fuckerberg', 'wwwtopnewsin', 'aaand', 'quickmcom', 'precari', 'siriusli', 'rvcjcom', 'mantri', '14hour', 'wouluarvey', 'shelter', 'olsteen', 'noob', 'dushrox16', 'unshak', 'beginn', 'keildyyh', 'keidi', 'rpg', 'canada', 'wasteland', 'barren', 'mastrub', 'wwwsizechartercom', 'mensrafein', 'pot', 'schedul', 'hypocrici', 'koi', 'sima', 'hoti', 'bhalobhno', 'keyboard', 'thumbpresscom', '32make', 'interpurret', 'ensur', 'veganoverlord', 'shaddup', 'inclus', 'millenni', 'indoctrin', 'ps4', 'advis', 'kamavena', 'bowler', 'cuta', 'horrif', 'seeley', 'wwwoldvcut', 'keerata', 'gameoflaughscom', 'musiccom', 'farc', 'dankmemesgang', 'ohnni', 'formula1', 'ph3lwabcom', '1936', 'berlin', 'africanamerican', 'jess', 'sheignor', 'antifreez', 'presind', 'franklin', 'roosevelt', 'commemor', 'afungi', 'draeger', 'itsjustjokespeopl', 'extinguish', 'wedlock', 'cutz', 'daft', 'morodergodfath', 'electron', 'musicfor', 'morod', 'timefram', 'affleck', 'pettypost', 'pettyastheycom', 'straightclownin', 'hegotjok', 'jokesforday', '555', 'itsfunnytom', 'funnyisfunni', 'randomhumor', 'markzuckerberg', 'buffet', 'otherwis', 'wemer', 'prohibit', 'perpetu', 'dhinchak', 'puja', 'botdog', 'sal', 'boomimgflipcom', '010717', 'menstruat', 'aypo3', 'beahero', 'roflrazzicom', 'homecom', 'judgment', 'blond', 'avenegersmem', 'remot', 'quickmemescon', 'therromans', 'sooo', 'tiddi', 'machet', '69th', 'imgipcom', 'hota', 'spacecraft', 'sayin', 'ma', 'outnumb', 'jr', 'einstien', 'becn16', 'jaredleto', 'legionofdoom', 'aqualad', 'aka', 'blerd', 'andijust', 'funnyism', 'intestin', 'chemosi', 'operti', 'neglectin', 'mosh', 'hassandeni', 'kwa', 'kuja', 'dhenk', 'comingcomingen', 'briant', '4014', 'restor', 'asmart', 'xeno', 'purg', 'putout', 'facebookcomshitscrol', 'wwwcallcentermemescom', 'dennotoo', 'fearless', 'refrain', 'wwwessentialoilstylecom', 'ined', 'quicunemecom', '1627', 'so', 'gina', 'wala', 'memecrunchco', 'contribut', 'leas', 'brake', 'vam', 'antman', 'hofstadt', 'wknd', 'liamgallagh', 'gallagh', 'pewd', '9gagcomgag4543448', 'tribbianni', 'chandlerb', 'joeytribbiani', 'reeeeeeeeeeeeeee', 'kidh', 'memeeneratorcom', 'backup', 'unitedstatesofmurica', 'roundhous', 'globetrott', 'regard', 'femishit', 'therapi', 'unlearn', 'harm', 'moder', 'edgar', 'allan', 'poe', 'photogid', 'fleet', 'shitscrol', 'putdown', 'putup', 'cheesel', 'thr', 'habit', 'deliber', 'misspel', 'fro', 'jullian', 'grammar', 'wwwcatikaytumblrcom', 'fend', '1990', 'tanya', 'wash', 'smack', 'eur', 'pinkvilla', 'bazooka', 'lolo', 'rajh', 'underton', 'sheer', 'decenc', 'tc', 'entri', 'siga', 'scrabbl', 'thriller', 'wwwfacebookcomcataddict', 'wwwveryfunnypicseu', 'azharuddin', 'pitch', 'azhar', 'nutrient', 'problemat', 'hershey', 'lobetrott', 'funnypicsonlycom', 'dontlik', 'hawai', 'stockholm', 'dimens', 'lunat', 'manipul', 'juliet', 'romeo', 'feminin', 'womanhood', 'hawkman', 'memegencom', '20kg', 'clarketwin', 'highway', 'dilolcom', 'goosebumpsmovi', 'goosebump', 'slappi', 'tonksxd', 'restroom', 'a1c', 'diabet', 'wayyyi', 'dug', 'boobi', 'rexf', 'peny', 'hsheldon', 'noraci', 'wag', 'darb', 'bbt', 'qurmamacom', 'olik', 'realdailywir', 'clickingforgot', 'grave', 'chong', 'lini', 'l500', 'nfigueiroa', 'tgay', 'sensei', 'fuckup', 'poorli', 'memati', 'loo', 'dumper', 'stack', 'homeown', 'flue', 'household', 'wojak', 'sundaysportco', 'foulbowel', 'hooligan', 'unload', 'theyd', 'isbut', 'ned', 'ruffian', 'mistakenli', 'dode', 'uth', 'meht', 'spaceship', 'fuckoff', 'tenorr', 'billionair', 'preseason', 'sack', 'evacu', 'enterpris', 'vagascom', 'mehe', 'coh', '22h', 'campaign', '9gagcomgaga0p9pvnr', '35k', '56k', 'obsolet', 'allerg', 'jayzco', 'florida', 'mxico', 'puu', 'buf', 'dorito', 'vox', 'bordercrush', 'partiarchi', 'courteshillari', 'businessmindset', 'detamerica', 'motherf', 'partnership', 'strateg', 'bilater', 'anev', 'cornfield', 'boach', 'cais', 'stalk', 'remedi', 'civilian', 'hahahahahahahahaha', 'highest', 'et', 'bodyguard', 'businessmindset101', 'femini', 'cru', 'chamish', 'thamizh', 'smdh', 'interimperfect', 'whisk', 'slowli', 'tampoon', 'ook', 'selfloath', 'fook', 'scarf', 'gangster', 'mametent', 'swung', 'carpetfilt', 'grate', 'shite', 'temperatur', 'aberdeen', 'ocha', 'nedhat', 'doon', 'kiek', 'oik', 'unleash', 'plop', 'rue', 'iftar', 'indiacom', 'daf', 'kup', 'peoplescubecom', 'iman', 'cheezburg', 'hee2eurgercom', 'degre', 'psych', 'yhe', '100n', 'sobasicicanteven', 'mrmun', 'pinterest', 'txhen', 'hypocrit', 'thatdream', 'nationalities74', 'fatti', '01', 'memeganiuratornet', 'llc', 'epe', 'abg', '215', 'contin', 'whereev', 'funsubstancecom', 'dental', 'oranforest', 'conclus', 'custodi', 'adulthood', 'fucc', '25l', 'tomska', 'ridgewel', 'thetomska', 'fortnit', '353', 'snag', 'dankmemesgangcom', 'laker', 'ohhhhh', 'coz', 'biblestudi', 'hasa', 'picturecom', 'laughoutloudclub', 'sled', 'kun', 'blowin', 'hint', 'bitterli', 'mitler', 'nr', 'adelf', 'uncensor', 'gormeni', 'stuffthatlookslikestuff', 'eclip', 'saiv', 'leik', 'poland', '2018putin', 'remak', 'surf', 'instant', 'stuf', 'shiver', 'trimbl', 'heidi', 'memec', 'tercom', 'mamelenler', 'otaku', '2012putin', 'liv', '2000putin', 'getoverher', 'shanna', 'elena', 'utopia', 'sensat', 'delenastelena', 'csn', 'muut', 'facebookcomthemlbnem', 'astro', 'icanhavecheezburgercom', 'yearand', 'sciencebas', 'livestock', 'cart09262', 'facebookcomelma', 'saber', 'elma', 'atheism', 'greed', 'yugioh', 'stairway', 'stasi', 'paralyt', 'nighttim', 'canal', 'happywismesnet', 'alimentari', '2010', 'nemkutyacom', '1480', '1920', '1940', 'uppermost', 'humanist', 'fizzi', 'biblevers', 'rofurazzicom', 'jesuschrist', 'tlook', 'alltheminion', 'spanish', 'cthey', 'irrat', 'godless', 'cloudxstrif', 'prostitut', 'tnfiw', 'instacomedi', 'chun', 'theantibogan', 'secular', 'funnyatheist', 'freethink', 'fuckreligion', 'lollypop', 'benedictscumberbatch', 'seven', 'fbbestofgameofthron', 'therefor', 'abort', 'clinic', 'airport', 'niall', 'nike', 'lgbt', 'mounir', 'karnataka', 'wohatepopcountrycom', 'quickiemeco', 'bryan', '144mb', 'disk', 'aisl', 'react', 'loss', 'upal', 'catchi', 'oddli', 'goty', 'bulong', 'redefin', 'ecom', 'brimston', 'rareat', 'gut', 'blb247', 'belikebrocom', '0158', '291like', '145', 'punsonli', 'underappteci', 'twitterpun', 'itsyaboi95', 'yer', '610', 'gipcom', 'sep', 'decay', 'bryant', 'factual', 'marijuana', 'indec', 'memetentera', 'funnypeseu', 'despacito', 'einstein', 'albert', 'gangnam', 'surpass', 'unappreci', 'disgruntl', 'jobstreet', 'scalia', 'jab', 'thelikeguy', 'bullshitegeneratornet', 'myex', 'andipref', 'hotguy', 'senseless', 'toehdr', 'dofe', 'gurl', 'shotgun', 'pepsi', 'spinach', 'vegit', 'error', 'flower', 'belgium', 'wrestlememia', 'wemd', 'discu', 'couldv', 'magdon', 'uhhhhhhhbten', 'lb', 'twenti', 'httpsitrtt23', 'fifteen', 'happya', 'rotat', 'sofa', 'beingchandlerb', 'friendsrebound', '08052017', '375', 'viarmem', 'septemb', 'helpless', 'simultan', 'starwar', 'symbol', '124k', 'midays', 'fav', 'doraemon', 'shinchan', 'bil', '112', 'bili', 'cand', 'carbon', '427', '153', 'knightchang', 'cocoa', 'puff', '6000', 'perman', 'funnyi', 'fay', 'nyp', 'itz', 'dioxid', 'fluffi', 'purchas', 'jongdeux', 'ceo', 'mention', 'isent', 'hereto', 'nepal', '1956', 'longest', 'ceoquot', 'resurg', 'copaamericafinal2016', 'inernet', 'reil', 'nitrogen', 'httpifttt2ntzk8h', 'rdankmem']\n",
            "['__label__positive', '__label__neutral', '__label__negative']\n"
          ]
        }
      ],
      "source": [
        "print(model.words)\n",
        "print(model.labels)"
      ]
    },
    {
      "cell_type": "code",
      "execution_count": null,
      "metadata": {
        "id": "ZrCj3OMdkoFr"
      },
      "outputs": [],
      "source": [
        "def print_results(N, p, r):\n",
        "    print(\"N\\t\" + str(N))\n",
        "    print(\"P@{}\\t{:.3f}\".format(1, p))\n",
        "    print(\"R@{}\\t{:.3f}\".format(1, r))"
      ]
    },
    {
      "cell_type": "code",
      "execution_count": null,
      "metadata": {
        "id": "e_qExtA0kpmy",
        "colab": {
          "base_uri": "https://localhost:8080/"
        },
        "outputId": "979ec579-dd36-4779-83f7-ae8ebb47cf9b"
      },
      "outputs": [
        {
          "output_type": "stream",
          "name": "stdout",
          "text": [
            "N\t3744\n",
            "P@1\t0.794\n",
            "R@1\t0.794\n"
          ]
        }
      ],
      "source": [
        "print_results(*model.test('/content/drive/My Drive/test.txt'))"
      ]
    },
    {
      "cell_type": "code",
      "execution_count": null,
      "metadata": {
        "id": "tiRL5A5tkrB4",
        "colab": {
          "base_uri": "https://localhost:8080/"
        },
        "outputId": "4579b9e4-99f8-4f1f-a47d-fb74260e8df3"
      },
      "outputs": [
        {
          "output_type": "execute_result",
          "data": {
            "text/plain": [
              "(('__label__negative',), array([0.99844456]))"
            ]
          },
          "metadata": {},
          "execution_count": 30
        }
      ],
      "source": [
        "model.predict(\"hey girl keep law bodi keep hand\")"
      ]
    }
  ],
  "metadata": {
    "accelerator": "GPU",
    "colab": {
      "name": "Memotion_Fasttext_Classifier.ipynb",
      "provenance": []
    },
    "kernelspec": {
      "display_name": "Python 3",
      "name": "python3"
    }
  },
  "nbformat": 4,
  "nbformat_minor": 0
}